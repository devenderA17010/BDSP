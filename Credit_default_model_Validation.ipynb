{
 "cells": [
  {
   "cell_type": "code",
   "execution_count": 1,
   "metadata": {
    "collapsed": false
   },
   "outputs": [
    {
     "name": "stdout",
     "output_type": "stream",
     "text": [
      "Once deleted, variables cannot be recovered. Proceed (y/[n])? y\n"
     ]
    }
   ],
   "source": [
    "%reset"
   ]
  },
  {
   "cell_type": "code",
   "execution_count": 2,
   "metadata": {
    "collapsed": false
   },
   "outputs": [
    {
     "data": {
      "text/plain": [
       "'C:\\\\Users\\\\Dell\\\\Documents\\\\Jupyter'"
      ]
     },
     "execution_count": 2,
     "metadata": {},
     "output_type": "execute_result"
    }
   ],
   "source": [
    "import os\n",
    "import pandas as pd\n",
    "\n",
    "import numpy as np\n",
    "import matplotlib.pyplot as plt\n",
    "\n",
    "os.getcwd()"
   ]
  },
  {
   "cell_type": "code",
   "execution_count": 3,
   "metadata": {
    "collapsed": true
   },
   "outputs": [],
   "source": [
    "os.chdir(\"E:\\\\analytics_assignment\")"
   ]
  },
  {
   "cell_type": "code",
   "execution_count": 4,
   "metadata": {
    "collapsed": true
   },
   "outputs": [],
   "source": [
    "PrednActuals=pd.read_pickle(\"data_model_vald.pkl\")\n",
    "\n",
    "PrednActuals.sort_values(by=\"Prob\",ascending=False,inplace=True)\n",
    "\n",
    "labels=[\"D10\",\"D9\",\"D8\",\"D7\",\"D6\",\"D5\",\"D4\",\"D3\",\"D2\",\"D1\"]\n",
    "\n",
    "PrednActuals[\"Deciles_lbl\"]=pd.qcut(PrednActuals.Prob,q=10,precision=1,labels=labels)\n",
    "\n",
    "pd.value_counts(PrednActuals.Deciles_lbl,sort=False)"
   ]
  },
  {
   "cell_type": "code",
   "execution_count": 9,
   "metadata": {
    "collapsed": false
   },
   "outputs": [],
   "source": [
    "temp=PrednActuals.groupby(by=\"Deciles_lbl\",as_index=False).agg({\"Actuals\":[\"count\",\"sum\"]})\n",
    "\n",
    "temp.columns=[\"Deciles_lbl\",\"count\",\"events\"]\n",
    "\n",
    "temp[\"Events_Per\"]=temp.events/temp[\"count\"]\n",
    "\n",
    "temp"
   ]
  },
  {
   "cell_type": "markdown",
   "metadata": {},
   "source": [
    "## Ranking"
   ]
  },
  {
   "cell_type": "code",
   "execution_count": 13,
   "metadata": {
    "collapsed": true
   },
   "outputs": [],
   "source": [
    "fig = plt.figure()\n",
    "ax = fig.gca()\n",
    "\n",
    "x=np.array(labels)"
   ]
  },
  {
   "cell_type": "code",
   "execution_count": 15,
   "metadata": {
    "collapsed": false
   },
   "outputs": [
    {
     "data": {
      "image/png": "[encoded data removed]",
      "text/plain": [
       "<matplotlib.figure.Figure at 0x2b7c2da3c88>"
      ]
     },
     "metadata": {},
     "output_type": "display_data"
    }
   ],
   "source": [
    "plt.xticks(range(len(x)), x)\n",
    "ax.bar(range(len(x)),temp.Events_Per,color=\"orange\")\n",
    "ax.plot(range(len(x)), temp.Events_Per)\n",
    "plt.show()"
   ]
  },
  {
   "cell_type": "markdown",
   "metadata": {},
   "source": [
    "# KS"
   ]
  },
  {
   "cell_type": "code",
   "execution_count": 16,
   "metadata": {
    "collapsed": false
   },
   "outputs": [],
   "source": [
    "temp.sort_values(by=\"Deciles_lbl\",ascending=False,inplace=True)\n",
    "\n",
    "temp.drop(\"Events_Per\",inplace=True,axis=1)\n",
    "\n",
    "temp[\"NonEvents\"]=temp[\"count\"]-temp[\"events\"]\n",
    "\n",
    "temp[\"Events%\"]=temp[\"events\"]/(temp[\"events\"].sum())\n",
    "temp[\"Cum%Events\"]=temp[\"Events%\"].cumsum()\n",
    "\n",
    "temp[\"NonEvents%\"]=temp[\"NonEvents\"]/(temp[\"NonEvents\"].sum())\n",
    "temp[\"Cum%NonEvents\"]=temp[\"NonEvents%\"].cumsum()\n",
    "\n",
    "temp[\"KS\"]=temp[\"Cum%Events\"]-temp[\"Cum%NonEvents\"]"
   ]
  },
  {
   "cell_type": "code",
   "execution_count": 22,
   "metadata": {
    "collapsed": false,
    "scrolled": false
   },
   "outputs": [
    {
     "data": {
      "text/html": [
       "<div>\n",
       "<style scoped>\n",
       "    .dataframe tbody tr th:only-of-type {\n",
       "        vertical-align: middle;\n",
       "    }\n",
       "\n",
       "    .dataframe tbody tr th {\n",
       "        vertical-align: top;\n",
       "    }\n",
       "\n",
       "    .dataframe thead th {\n",
       "        text-align: right;\n",
       "    }\n",
       "</style>\n",
       "<table border=\"1\" class=\"dataframe\">\n",
       "  <thead>\n",
       "    <tr style=\"text-align: right;\">\n",
       "      <th></th>\n",
       "      <th>Deciles_lbl</th>\n",
       "      <th>count</th>\n",
       "      <th>events</th>\n",
       "      <th>NonEvents</th>\n",
       "      <th>Events%</th>\n",
       "      <th>Cum%Events</th>\n",
       "      <th>NonEvents%</th>\n",
       "      <th>Cum%NonEvents</th>\n",
       "      <th>KS</th>\n",
       "    </tr>\n",
       "  </thead>\n",
       "  <tbody>\n",
       "    <tr>\n",
       "      <th>9</th>\n",
       "      <td>D1</td>\n",
       "      <td>2096</td>\n",
       "      <td>1308</td>\n",
       "      <td>788</td>\n",
       "      <td>0.278535</td>\n",
       "      <td>0.278535</td>\n",
       "      <td>0.048332</td>\n",
       "      <td>0.048332</td>\n",
       "      <td>0.230203</td>\n",
       "    </tr>\n",
       "    <tr>\n",
       "      <th>8</th>\n",
       "      <td>D2</td>\n",
       "      <td>2104</td>\n",
       "      <td>908</td>\n",
       "      <td>1196</td>\n",
       "      <td>0.193356</td>\n",
       "      <td>0.471891</td>\n",
       "      <td>0.073356</td>\n",
       "      <td>0.121688</td>\n",
       "      <td>0.350203</td>\n",
       "    </tr>\n",
       "    <tr>\n",
       "      <th>7</th>\n",
       "      <td>D3</td>\n",
       "      <td>2100</td>\n",
       "      <td>672</td>\n",
       "      <td>1428</td>\n",
       "      <td>0.143101</td>\n",
       "      <td>0.614991</td>\n",
       "      <td>0.087586</td>\n",
       "      <td>0.209274</td>\n",
       "      <td>0.405718</td>\n",
       "    </tr>\n",
       "    <tr>\n",
       "      <th>6</th>\n",
       "      <td>D4</td>\n",
       "      <td>2058</td>\n",
       "      <td>372</td>\n",
       "      <td>1686</td>\n",
       "      <td>0.079216</td>\n",
       "      <td>0.694208</td>\n",
       "      <td>0.103410</td>\n",
       "      <td>0.312684</td>\n",
       "      <td>0.381524</td>\n",
       "    </tr>\n",
       "    <tr>\n",
       "      <th>5</th>\n",
       "      <td>D5</td>\n",
       "      <td>2118</td>\n",
       "      <td>294</td>\n",
       "      <td>1824</td>\n",
       "      <td>0.062606</td>\n",
       "      <td>0.756814</td>\n",
       "      <td>0.111874</td>\n",
       "      <td>0.424558</td>\n",
       "      <td>0.332256</td>\n",
       "    </tr>\n",
       "    <tr>\n",
       "      <th>4</th>\n",
       "      <td>D6</td>\n",
       "      <td>2111</td>\n",
       "      <td>297</td>\n",
       "      <td>1814</td>\n",
       "      <td>0.063245</td>\n",
       "      <td>0.820060</td>\n",
       "      <td>0.111261</td>\n",
       "      <td>0.535819</td>\n",
       "      <td>0.284240</td>\n",
       "    </tr>\n",
       "    <tr>\n",
       "      <th>3</th>\n",
       "      <td>D7</td>\n",
       "      <td>2099</td>\n",
       "      <td>247</td>\n",
       "      <td>1852</td>\n",
       "      <td>0.052598</td>\n",
       "      <td>0.872658</td>\n",
       "      <td>0.113592</td>\n",
       "      <td>0.649411</td>\n",
       "      <td>0.223246</td>\n",
       "    </tr>\n",
       "    <tr>\n",
       "      <th>2</th>\n",
       "      <td>D8</td>\n",
       "      <td>2037</td>\n",
       "      <td>179</td>\n",
       "      <td>1858</td>\n",
       "      <td>0.038118</td>\n",
       "      <td>0.910775</td>\n",
       "      <td>0.113960</td>\n",
       "      <td>0.763371</td>\n",
       "      <td>0.147404</td>\n",
       "    </tr>\n",
       "    <tr>\n",
       "      <th>1</th>\n",
       "      <td>D9</td>\n",
       "      <td>2177</td>\n",
       "      <td>234</td>\n",
       "      <td>1943</td>\n",
       "      <td>0.049830</td>\n",
       "      <td>0.960605</td>\n",
       "      <td>0.119173</td>\n",
       "      <td>0.882544</td>\n",
       "      <td>0.078061</td>\n",
       "    </tr>\n",
       "    <tr>\n",
       "      <th>0</th>\n",
       "      <td>D10</td>\n",
       "      <td>2100</td>\n",
       "      <td>185</td>\n",
       "      <td>1915</td>\n",
       "      <td>0.039395</td>\n",
       "      <td>1.000000</td>\n",
       "      <td>0.117456</td>\n",
       "      <td>1.000000</td>\n",
       "      <td>0.000000</td>\n",
       "    </tr>\n",
       "  </tbody>\n",
       "</table>\n",
       "</div>"
      ],
      "text/plain": [
       "  Deciles_lbl  count  events  NonEvents   Events%  Cum%Events  NonEvents%  \\\n",
       "9          D1   2096    1308        788  0.278535    0.278535    0.048332   \n",
       "8          D2   2104     908       1196  0.193356    0.471891    0.073356   \n",
       "7          D3   2100     672       1428  0.143101    0.614991    0.087586   \n",
       "6          D4   2058     372       1686  0.079216    0.694208    0.103410   \n",
       "5          D5   2118     294       1824  0.062606    0.756814    0.111874   \n",
       "4          D6   2111     297       1814  0.063245    0.820060    0.111261   \n",
       "3          D7   2099     247       1852  0.052598    0.872658    0.113592   \n",
       "2          D8   2037     179       1858  0.038118    0.910775    0.113960   \n",
       "1          D9   2177     234       1943  0.049830    0.960605    0.119173   \n",
       "0         D10   2100     185       1915  0.039395    1.000000    0.117456   \n",
       "\n",
       "   Cum%NonEvents        KS  \n",
       "9       0.048332  0.230203  \n",
       "8       0.121688  0.350203  \n",
       "7       0.209274  0.405718  \n",
       "6       0.312684  0.381524  \n",
       "5       0.424558  0.332256  \n",
       "4       0.535819  0.284240  \n",
       "3       0.649411  0.223246  \n",
       "2       0.763371  0.147404  \n",
       "1       0.882544  0.078061  \n",
       "0       1.000000  0.000000  "
      ]
     },
     "execution_count": 22,
     "metadata": {},
     "output_type": "execute_result"
    }
   ],
   "source": [
    "temp"
   ]
  },
  {
   "cell_type": "markdown",
   "metadata": {},
   "source": [
    "## Test Ranking"
   ]
  },
  {
   "cell_type": "code",
   "execution_count": 74,
   "metadata": {
    "collapsed": false
   },
   "outputs": [
    {
     "data": {
      "text/plain": [
       "D10    910\n",
       "D9     953\n",
       "D8     846\n",
       "D7     897\n",
       "D6     904\n",
       "D5     901\n",
       "D4     918\n",
       "D3     880\n",
       "D2     901\n",
       "D1     890\n",
       "Name: Deciles_lbl, dtype: int64"
      ]
     },
     "execution_count": 74,
     "metadata": {},
     "output_type": "execute_result"
    }
   ],
   "source": [
    "Test_PrednActuals=pd.read_pickle(\"Test_data_model_vald.pkl\")\n",
    "\n",
    "Test_PrednActuals.sort_values(by=\"Prob\",ascending=False,inplace=True)\n",
    "\n",
    "labels=[\"D10\",\"D9\",\"D8\",\"D7\",\"D6\",\"D5\",\"D4\",\"D3\",\"D2\",\"D1\"]\n",
    "\n",
    "Test_PrednActuals[\"Deciles_lbl\"]=pd.qcut(Test_PrednActuals.Prob,q=10,precision=1,labels=labels)\n",
    "\n",
    "pd.value_counts(Test_PrednActuals.Deciles_lbl,sort=False)"
   ]
  },
  {
   "cell_type": "code",
   "execution_count": 75,
   "metadata": {
    "collapsed": false
   },
   "outputs": [
    {
     "data": {
      "text/html": [
       "<div>\n",
       "<style scoped>\n",
       "    .dataframe tbody tr th:only-of-type {\n",
       "        vertical-align: middle;\n",
       "    }\n",
       "\n",
       "    .dataframe tbody tr th {\n",
       "        vertical-align: top;\n",
       "    }\n",
       "\n",
       "    .dataframe thead th {\n",
       "        text-align: right;\n",
       "    }\n",
       "</style>\n",
       "<table border=\"1\" class=\"dataframe\">\n",
       "  <thead>\n",
       "    <tr style=\"text-align: right;\">\n",
       "      <th></th>\n",
       "      <th>Deciles_lbl</th>\n",
       "      <th>count</th>\n",
       "      <th>events</th>\n",
       "      <th>Events_Per</th>\n",
       "    </tr>\n",
       "  </thead>\n",
       "  <tbody>\n",
       "    <tr>\n",
       "      <th>0</th>\n",
       "      <td>D10</td>\n",
       "      <td>910</td>\n",
       "      <td>72</td>\n",
       "      <td>0.079121</td>\n",
       "    </tr>\n",
       "    <tr>\n",
       "      <th>1</th>\n",
       "      <td>D9</td>\n",
       "      <td>953</td>\n",
       "      <td>87</td>\n",
       "      <td>0.091291</td>\n",
       "    </tr>\n",
       "    <tr>\n",
       "      <th>2</th>\n",
       "      <td>D8</td>\n",
       "      <td>846</td>\n",
       "      <td>74</td>\n",
       "      <td>0.087470</td>\n",
       "    </tr>\n",
       "    <tr>\n",
       "      <th>3</th>\n",
       "      <td>D7</td>\n",
       "      <td>897</td>\n",
       "      <td>98</td>\n",
       "      <td>0.109253</td>\n",
       "    </tr>\n",
       "    <tr>\n",
       "      <th>4</th>\n",
       "      <td>D6</td>\n",
       "      <td>904</td>\n",
       "      <td>112</td>\n",
       "      <td>0.123894</td>\n",
       "    </tr>\n",
       "    <tr>\n",
       "      <th>5</th>\n",
       "      <td>D5</td>\n",
       "      <td>901</td>\n",
       "      <td>142</td>\n",
       "      <td>0.157603</td>\n",
       "    </tr>\n",
       "    <tr>\n",
       "      <th>6</th>\n",
       "      <td>D4</td>\n",
       "      <td>918</td>\n",
       "      <td>144</td>\n",
       "      <td>0.156863</td>\n",
       "    </tr>\n",
       "    <tr>\n",
       "      <th>7</th>\n",
       "      <td>D3</td>\n",
       "      <td>880</td>\n",
       "      <td>287</td>\n",
       "      <td>0.326136</td>\n",
       "    </tr>\n",
       "    <tr>\n",
       "      <th>8</th>\n",
       "      <td>D2</td>\n",
       "      <td>901</td>\n",
       "      <td>392</td>\n",
       "      <td>0.435072</td>\n",
       "    </tr>\n",
       "    <tr>\n",
       "      <th>9</th>\n",
       "      <td>D1</td>\n",
       "      <td>890</td>\n",
       "      <td>532</td>\n",
       "      <td>0.597753</td>\n",
       "    </tr>\n",
       "  </tbody>\n",
       "</table>\n",
       "</div>"
      ],
      "text/plain": [
       "  Deciles_lbl  count  events  Events_Per\n",
       "0         D10    910      72    0.079121\n",
       "1          D9    953      87    0.091291\n",
       "2          D8    846      74    0.087470\n",
       "3          D7    897      98    0.109253\n",
       "4          D6    904     112    0.123894\n",
       "5          D5    901     142    0.157603\n",
       "6          D4    918     144    0.156863\n",
       "7          D3    880     287    0.326136\n",
       "8          D2    901     392    0.435072\n",
       "9          D1    890     532    0.597753"
      ]
     },
     "execution_count": 75,
     "metadata": {},
     "output_type": "execute_result"
    }
   ],
   "source": [
    "temp=Test_PrednActuals.groupby(by=\"Deciles_lbl\",as_index=False).agg({\"Actuals\":[\"count\",\"sum\"]})\n",
    "\n",
    "temp.columns=[\"Deciles_lbl\",\"count\",\"events\"]\n",
    "\n",
    "temp[\"Events_Per\"]=temp.events/temp[\"count\"]\n",
    "\n",
    "temp"
   ]
  },
  {
   "cell_type": "code",
   "execution_count": 76,
   "metadata": {
    "collapsed": true
   },
   "outputs": [],
   "source": [
    "fig = plt.figure()\n",
    "ax = fig.gca()\n",
    "\n",
    "x=np.array(labels)"
   ]
  },
  {
   "cell_type": "code",
   "execution_count": 77,
   "metadata": {
    "collapsed": false,
    "scrolled": true
   },
   "outputs": [
    {
     "data": {
      "image/png": "[encoded data removed]",
      "text/plain": [
       "<matplotlib.figure.Figure at 0x2b7c506d0f0>"
      ]
     },
     "metadata": {},
     "output_type": "display_data"
    }
   ],
   "source": [
    "plt.xticks(range(len(x)), x)\n",
    "ax.bar(range(len(x)),temp.Events_Per,color=\"orange\")\n",
    "ax.plot(range(len(x)), temp.Events_Per)\n",
    "plt.show()"
   ]
  },
  {
   "cell_type": "markdown",
   "metadata": {},
   "source": [
    "## Test KS"
   ]
  },
  {
   "cell_type": "code",
   "execution_count": 78,
   "metadata": {
    "collapsed": true
   },
   "outputs": [],
   "source": [
    "temp.sort_values(by=\"Deciles_lbl\",ascending=False,inplace=True)\n",
    "\n",
    "temp.drop(\"Events_Per\",inplace=True,axis=1)\n",
    "\n",
    "temp[\"NonEvents\"]=temp[\"count\"]-temp[\"events\"]\n",
    "\n",
    "temp[\"Events%\"]=temp[\"events\"]/(temp[\"events\"].sum())\n",
    "temp[\"Cum%Events\"]=temp[\"Events%\"].cumsum()\n",
    "\n",
    "temp[\"NonEvents%\"]=temp[\"NonEvents\"]/(temp[\"NonEvents\"].sum())\n",
    "temp[\"Cum%NonEvents\"]=temp[\"NonEvents%\"].cumsum()\n",
    "\n",
    "temp[\"KS\"]=temp[\"Cum%Events\"]-temp[\"Cum%NonEvents\"]"
   ]
  },
  {
   "cell_type": "code",
   "execution_count": 79,
   "metadata": {
    "collapsed": false
   },
   "outputs": [
    {
     "data": {
      "text/html": [
       "<div>\n",
       "<style scoped>\n",
       "    .dataframe tbody tr th:only-of-type {\n",
       "        vertical-align: middle;\n",
       "    }\n",
       "\n",
       "    .dataframe tbody tr th {\n",
       "        vertical-align: top;\n",
       "    }\n",
       "\n",
       "    .dataframe thead th {\n",
       "        text-align: right;\n",
       "    }\n",
       "</style>\n",
       "<table border=\"1\" class=\"dataframe\">\n",
       "  <thead>\n",
       "    <tr style=\"text-align: right;\">\n",
       "      <th></th>\n",
       "      <th>Deciles_lbl</th>\n",
       "      <th>count</th>\n",
       "      <th>events</th>\n",
       "      <th>NonEvents</th>\n",
       "      <th>Events%</th>\n",
       "      <th>Cum%Events</th>\n",
       "      <th>NonEvents%</th>\n",
       "      <th>Cum%NonEvents</th>\n",
       "      <th>KS</th>\n",
       "    </tr>\n",
       "  </thead>\n",
       "  <tbody>\n",
       "    <tr>\n",
       "      <th>9</th>\n",
       "      <td>D1</td>\n",
       "      <td>890</td>\n",
       "      <td>532</td>\n",
       "      <td>358</td>\n",
       "      <td>0.274227</td>\n",
       "      <td>0.274227</td>\n",
       "      <td>0.050708</td>\n",
       "      <td>0.050708</td>\n",
       "      <td>2.235186e-01</td>\n",
       "    </tr>\n",
       "    <tr>\n",
       "      <th>8</th>\n",
       "      <td>D2</td>\n",
       "      <td>901</td>\n",
       "      <td>392</td>\n",
       "      <td>509</td>\n",
       "      <td>0.202062</td>\n",
       "      <td>0.476289</td>\n",
       "      <td>0.072096</td>\n",
       "      <td>0.122805</td>\n",
       "      <td>3.534841e-01</td>\n",
       "    </tr>\n",
       "    <tr>\n",
       "      <th>7</th>\n",
       "      <td>D3</td>\n",
       "      <td>880</td>\n",
       "      <td>287</td>\n",
       "      <td>593</td>\n",
       "      <td>0.147938</td>\n",
       "      <td>0.624227</td>\n",
       "      <td>0.083994</td>\n",
       "      <td>0.206799</td>\n",
       "      <td>4.174279e-01</td>\n",
       "    </tr>\n",
       "    <tr>\n",
       "      <th>6</th>\n",
       "      <td>D4</td>\n",
       "      <td>918</td>\n",
       "      <td>144</td>\n",
       "      <td>774</td>\n",
       "      <td>0.074227</td>\n",
       "      <td>0.698454</td>\n",
       "      <td>0.109632</td>\n",
       "      <td>0.316431</td>\n",
       "      <td>3.820230e-01</td>\n",
       "    </tr>\n",
       "    <tr>\n",
       "      <th>5</th>\n",
       "      <td>D5</td>\n",
       "      <td>901</td>\n",
       "      <td>142</td>\n",
       "      <td>759</td>\n",
       "      <td>0.073196</td>\n",
       "      <td>0.771649</td>\n",
       "      <td>0.107507</td>\n",
       "      <td>0.423938</td>\n",
       "      <td>3.477118e-01</td>\n",
       "    </tr>\n",
       "    <tr>\n",
       "      <th>4</th>\n",
       "      <td>D6</td>\n",
       "      <td>904</td>\n",
       "      <td>112</td>\n",
       "      <td>792</td>\n",
       "      <td>0.057732</td>\n",
       "      <td>0.829381</td>\n",
       "      <td>0.112181</td>\n",
       "      <td>0.536119</td>\n",
       "      <td>2.932625e-01</td>\n",
       "    </tr>\n",
       "    <tr>\n",
       "      <th>3</th>\n",
       "      <td>D7</td>\n",
       "      <td>897</td>\n",
       "      <td>98</td>\n",
       "      <td>799</td>\n",
       "      <td>0.050515</td>\n",
       "      <td>0.879897</td>\n",
       "      <td>0.113173</td>\n",
       "      <td>0.649292</td>\n",
       "      <td>2.306051e-01</td>\n",
       "    </tr>\n",
       "    <tr>\n",
       "      <th>2</th>\n",
       "      <td>D8</td>\n",
       "      <td>846</td>\n",
       "      <td>74</td>\n",
       "      <td>772</td>\n",
       "      <td>0.038144</td>\n",
       "      <td>0.918041</td>\n",
       "      <td>0.109348</td>\n",
       "      <td>0.758640</td>\n",
       "      <td>1.594010e-01</td>\n",
       "    </tr>\n",
       "    <tr>\n",
       "      <th>1</th>\n",
       "      <td>D9</td>\n",
       "      <td>953</td>\n",
       "      <td>87</td>\n",
       "      <td>866</td>\n",
       "      <td>0.044845</td>\n",
       "      <td>0.962887</td>\n",
       "      <td>0.122663</td>\n",
       "      <td>0.881303</td>\n",
       "      <td>8.158348e-02</td>\n",
       "    </tr>\n",
       "    <tr>\n",
       "      <th>0</th>\n",
       "      <td>D10</td>\n",
       "      <td>910</td>\n",
       "      <td>72</td>\n",
       "      <td>838</td>\n",
       "      <td>0.037113</td>\n",
       "      <td>1.000000</td>\n",
       "      <td>0.118697</td>\n",
       "      <td>1.000000</td>\n",
       "      <td>-1.110223e-16</td>\n",
       "    </tr>\n",
       "  </tbody>\n",
       "</table>\n",
       "</div>"
      ],
      "text/plain": [
       "  Deciles_lbl  count  events  NonEvents   Events%  Cum%Events  NonEvents%  \\\n",
       "9          D1    890     532        358  0.274227    0.274227    0.050708   \n",
       "8          D2    901     392        509  0.202062    0.476289    0.072096   \n",
       "7          D3    880     287        593  0.147938    0.624227    0.083994   \n",
       "6          D4    918     144        774  0.074227    0.698454    0.109632   \n",
       "5          D5    901     142        759  0.073196    0.771649    0.107507   \n",
       "4          D6    904     112        792  0.057732    0.829381    0.112181   \n",
       "3          D7    897      98        799  0.050515    0.879897    0.113173   \n",
       "2          D8    846      74        772  0.038144    0.918041    0.109348   \n",
       "1          D9    953      87        866  0.044845    0.962887    0.122663   \n",
       "0         D10    910      72        838  0.037113    1.000000    0.118697   \n",
       "\n",
       "   Cum%NonEvents            KS  \n",
       "9       0.050708  2.235186e-01  \n",
       "8       0.122805  3.534841e-01  \n",
       "7       0.206799  4.174279e-01  \n",
       "6       0.316431  3.820230e-01  \n",
       "5       0.423938  3.477118e-01  \n",
       "4       0.536119  2.932625e-01  \n",
       "3       0.649292  2.306051e-01  \n",
       "2       0.758640  1.594010e-01  \n",
       "1       0.881303  8.158348e-02  \n",
       "0       1.000000 -1.110223e-16  "
      ]
     },
     "execution_count": 79,
     "metadata": {},
     "output_type": "execute_result"
    }
   ],
   "source": [
    "temp"
   ]
  },
  {
   "cell_type": "code",
   "execution_count": 82,
   "metadata": {
    "collapsed": true
   },
   "outputs": [],
   "source": [
    "pd.options.display.float_format = '{:.4f}'.format"
   ]
  },
  {
   "cell_type": "code",
   "execution_count": 83,
   "metadata": {
    "collapsed": false
   },
   "outputs": [
    {
     "data": {
      "text/html": [
       "<div>\n",
       "<style scoped>\n",
       "    .dataframe tbody tr th:only-of-type {\n",
       "        vertical-align: middle;\n",
       "    }\n",
       "\n",
       "    .dataframe tbody tr th {\n",
       "        vertical-align: top;\n",
       "    }\n",
       "\n",
       "    .dataframe thead th {\n",
       "        text-align: right;\n",
       "    }\n",
       "</style>\n",
       "<table border=\"1\" class=\"dataframe\">\n",
       "  <thead>\n",
       "    <tr style=\"text-align: right;\">\n",
       "      <th></th>\n",
       "      <th>Deciles_lbl</th>\n",
       "      <th>count</th>\n",
       "      <th>events</th>\n",
       "      <th>NonEvents</th>\n",
       "      <th>Events%</th>\n",
       "      <th>Cum%Events</th>\n",
       "      <th>NonEvents%</th>\n",
       "      <th>Cum%NonEvents</th>\n",
       "      <th>KS</th>\n",
       "    </tr>\n",
       "  </thead>\n",
       "  <tbody>\n",
       "    <tr>\n",
       "      <th>9</th>\n",
       "      <td>D1</td>\n",
       "      <td>890</td>\n",
       "      <td>532</td>\n",
       "      <td>358</td>\n",
       "      <td>0.2742</td>\n",
       "      <td>0.2742</td>\n",
       "      <td>0.0507</td>\n",
       "      <td>0.0507</td>\n",
       "      <td>0.2235</td>\n",
       "    </tr>\n",
       "    <tr>\n",
       "      <th>8</th>\n",
       "      <td>D2</td>\n",
       "      <td>901</td>\n",
       "      <td>392</td>\n",
       "      <td>509</td>\n",
       "      <td>0.2021</td>\n",
       "      <td>0.4763</td>\n",
       "      <td>0.0721</td>\n",
       "      <td>0.1228</td>\n",
       "      <td>0.3535</td>\n",
       "    </tr>\n",
       "    <tr>\n",
       "      <th>7</th>\n",
       "      <td>D3</td>\n",
       "      <td>880</td>\n",
       "      <td>287</td>\n",
       "      <td>593</td>\n",
       "      <td>0.1479</td>\n",
       "      <td>0.6242</td>\n",
       "      <td>0.0840</td>\n",
       "      <td>0.2068</td>\n",
       "      <td>0.4174</td>\n",
       "    </tr>\n",
       "    <tr>\n",
       "      <th>6</th>\n",
       "      <td>D4</td>\n",
       "      <td>918</td>\n",
       "      <td>144</td>\n",
       "      <td>774</td>\n",
       "      <td>0.0742</td>\n",
       "      <td>0.6985</td>\n",
       "      <td>0.1096</td>\n",
       "      <td>0.3164</td>\n",
       "      <td>0.3820</td>\n",
       "    </tr>\n",
       "    <tr>\n",
       "      <th>5</th>\n",
       "      <td>D5</td>\n",
       "      <td>901</td>\n",
       "      <td>142</td>\n",
       "      <td>759</td>\n",
       "      <td>0.0732</td>\n",
       "      <td>0.7716</td>\n",
       "      <td>0.1075</td>\n",
       "      <td>0.4239</td>\n",
       "      <td>0.3477</td>\n",
       "    </tr>\n",
       "    <tr>\n",
       "      <th>4</th>\n",
       "      <td>D6</td>\n",
       "      <td>904</td>\n",
       "      <td>112</td>\n",
       "      <td>792</td>\n",
       "      <td>0.0577</td>\n",
       "      <td>0.8294</td>\n",
       "      <td>0.1122</td>\n",
       "      <td>0.5361</td>\n",
       "      <td>0.2933</td>\n",
       "    </tr>\n",
       "    <tr>\n",
       "      <th>3</th>\n",
       "      <td>D7</td>\n",
       "      <td>897</td>\n",
       "      <td>98</td>\n",
       "      <td>799</td>\n",
       "      <td>0.0505</td>\n",
       "      <td>0.8799</td>\n",
       "      <td>0.1132</td>\n",
       "      <td>0.6493</td>\n",
       "      <td>0.2306</td>\n",
       "    </tr>\n",
       "    <tr>\n",
       "      <th>2</th>\n",
       "      <td>D8</td>\n",
       "      <td>846</td>\n",
       "      <td>74</td>\n",
       "      <td>772</td>\n",
       "      <td>0.0381</td>\n",
       "      <td>0.9180</td>\n",
       "      <td>0.1093</td>\n",
       "      <td>0.7586</td>\n",
       "      <td>0.1594</td>\n",
       "    </tr>\n",
       "    <tr>\n",
       "      <th>1</th>\n",
       "      <td>D9</td>\n",
       "      <td>953</td>\n",
       "      <td>87</td>\n",
       "      <td>866</td>\n",
       "      <td>0.0448</td>\n",
       "      <td>0.9629</td>\n",
       "      <td>0.1227</td>\n",
       "      <td>0.8813</td>\n",
       "      <td>0.0816</td>\n",
       "    </tr>\n",
       "    <tr>\n",
       "      <th>0</th>\n",
       "      <td>D10</td>\n",
       "      <td>910</td>\n",
       "      <td>72</td>\n",
       "      <td>838</td>\n",
       "      <td>0.0371</td>\n",
       "      <td>1.0000</td>\n",
       "      <td>0.1187</td>\n",
       "      <td>1.0000</td>\n",
       "      <td>-0.0000</td>\n",
       "    </tr>\n",
       "  </tbody>\n",
       "</table>\n",
       "</div>"
      ],
      "text/plain": [
       "  Deciles_lbl  count  events  NonEvents  Events%  Cum%Events  NonEvents%  \\\n",
       "9          D1    890     532        358   0.2742      0.2742      0.0507   \n",
       "8          D2    901     392        509   0.2021      0.4763      0.0721   \n",
       "7          D3    880     287        593   0.1479      0.6242      0.0840   \n",
       "6          D4    918     144        774   0.0742      0.6985      0.1096   \n",
       "5          D5    901     142        759   0.0732      0.7716      0.1075   \n",
       "4          D6    904     112        792   0.0577      0.8294      0.1122   \n",
       "3          D7    897      98        799   0.0505      0.8799      0.1132   \n",
       "2          D8    846      74        772   0.0381      0.9180      0.1093   \n",
       "1          D9    953      87        866   0.0448      0.9629      0.1227   \n",
       "0         D10    910      72        838   0.0371      1.0000      0.1187   \n",
       "\n",
       "   Cum%NonEvents      KS  \n",
       "9         0.0507  0.2235  \n",
       "8         0.1228  0.3535  \n",
       "7         0.2068  0.4174  \n",
       "6         0.3164  0.3820  \n",
       "5         0.4239  0.3477  \n",
       "4         0.5361  0.2933  \n",
       "3         0.6493  0.2306  \n",
       "2         0.7586  0.1594  \n",
       "1         0.8813  0.0816  \n",
       "0         1.0000 -0.0000  "
      ]
     },
     "execution_count": 83,
     "metadata": {},
     "output_type": "execute_result"
    }
   ],
   "source": [
    "temp"
   ]
  },
  {
   "cell_type": "code",
   "execution_count": null,
   "metadata": {
    "collapsed": true
   },
   "outputs": [],
   "source": []
  }
 ],
 "metadata": {
  "kernelspec": {
   "display_name": "Python 3",
   "language": "python",
   "name": "python3"
  },
  "language_info": {
   "codemirror_mode": {
    "name": "ipython",
    "version": 3
   },
   "file_extension": ".py",
   "mimetype": "text/x-python",
   "name": "python",
   "nbconvert_exporter": "python",
   "pygments_lexer": "ipython3",
   "version": "3.6.0"
  }
 },
 "nbformat": 4,
 "nbformat_minor": 2
}

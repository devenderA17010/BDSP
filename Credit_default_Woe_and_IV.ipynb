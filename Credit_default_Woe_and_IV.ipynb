{
 "cells": [
  {
   "cell_type": "code",
   "execution_count": 231,
   "metadata": {
    "collapsed": false
   },
   "outputs": [
    {
     "name": "stdout",
     "output_type": "stream",
     "text": [
      "Once deleted, variables cannot be recovered. Proceed (y/[n])? y\n"
     ]
    }
   ],
   "source": [
    "%reset"
   ]
  },
  {
   "cell_type": "code",
   "execution_count": 232,
   "metadata": {
    "collapsed": false
   },
   "outputs": [
    {
     "data": {
      "text/plain": [
       "'E:\\\\analytics_assignment'"
      ]
     },
     "execution_count": 232,
     "metadata": {},
     "output_type": "execute_result"
    }
   ],
   "source": [
    "import os\n",
    "import pandas as pd\n",
    "\n",
    "import numpy as np\n",
    "import matplotlib.pyplot as plt\n",
    "\n",
    "os.getcwd()"
   ]
  },
  {
   "cell_type": "code",
   "execution_count": 233,
   "metadata": {
    "collapsed": true
   },
   "outputs": [],
   "source": [
    "os.chdir(\"E:\\\\analytics_assignment\")"
   ]
  },
  {
   "cell_type": "code",
   "execution_count": 234,
   "metadata": {
    "collapsed": false
   },
   "outputs": [],
   "source": [
    "data=pd.read_pickle(\"final_data.pkl\")"
   ]
  },
  {
   "cell_type": "code",
   "execution_count": 235,
   "metadata": {
    "collapsed": false,
    "scrolled": true
   },
   "outputs": [
    {
     "data": {
      "text/html": [
       "<div>\n",
       "<style scoped>\n",
       "    .dataframe tbody tr th:only-of-type {\n",
       "        vertical-align: middle;\n",
       "    }\n",
       "\n",
       "    .dataframe tbody tr th {\n",
       "        vertical-align: top;\n",
       "    }\n",
       "\n",
       "    .dataframe thead th {\n",
       "        text-align: right;\n",
       "    }\n",
       "</style>\n",
       "<table border=\"1\" class=\"dataframe\">\n",
       "  <thead>\n",
       "    <tr style=\"text-align: right;\">\n",
       "      <th></th>\n",
       "      <th>LIMIT_BAL_bin</th>\n",
       "      <th>LIMIT_BAL_bin_lbl</th>\n",
       "      <th>Age_bin_lbl</th>\n",
       "      <th>Age_bin</th>\n",
       "      <th>Age_bin2_lbl</th>\n",
       "      <th>Age_bin2</th>\n",
       "      <th>Edu</th>\n",
       "      <th>Avg_Use_bin</th>\n",
       "      <th>Avg_Use_bin_lbl</th>\n",
       "      <th>Avg_Use_bins2</th>\n",
       "      <th>Avg_Use_bins2_lbl</th>\n",
       "      <th>Tot_percpaid_lbl</th>\n",
       "      <th>Tot_percpaid_bin</th>\n",
       "      <th>Delay_bin</th>\n",
       "      <th>Default</th>\n",
       "    </tr>\n",
       "  </thead>\n",
       "  <tbody>\n",
       "    <tr>\n",
       "      <th>0</th>\n",
       "      <td>(9999.9, 50000.0]</td>\n",
       "      <td>L1</td>\n",
       "      <td>A1</td>\n",
       "      <td>(20.9, 28.0]</td>\n",
       "      <td>A1</td>\n",
       "      <td>(20.9, 30.0]</td>\n",
       "      <td>2</td>\n",
       "      <td>(0.01785, 0.1343]</td>\n",
       "      <td>U2</td>\n",
       "      <td>(-0.0001, 0.134]</td>\n",
       "      <td>UT1</td>\n",
       "      <td>P3</td>\n",
       "      <td>(0.06092, 0.2108]</td>\n",
       "      <td>2_3</td>\n",
       "      <td>1</td>\n",
       "    </tr>\n",
       "    <tr>\n",
       "      <th>1</th>\n",
       "      <td>(50000.0, 140000.0]</td>\n",
       "      <td>L2</td>\n",
       "      <td>A1</td>\n",
       "      <td>(20.9, 28.0]</td>\n",
       "      <td>A1</td>\n",
       "      <td>(20.9, 30.0]</td>\n",
       "      <td>2</td>\n",
       "      <td>(0.01785, 0.1343]</td>\n",
       "      <td>U2</td>\n",
       "      <td>(-0.0001, 0.134]</td>\n",
       "      <td>UT1</td>\n",
       "      <td>P4</td>\n",
       "      <td>(0.2108, 0.808]</td>\n",
       "      <td>2_3</td>\n",
       "      <td>1</td>\n",
       "    </tr>\n",
       "    <tr>\n",
       "      <th>2</th>\n",
       "      <td>(50000.0, 140000.0]</td>\n",
       "      <td>L2</td>\n",
       "      <td>A2</td>\n",
       "      <td>(28.0, 34.0]</td>\n",
       "      <td>A2</td>\n",
       "      <td>(30.0, 39.0]</td>\n",
       "      <td>2</td>\n",
       "      <td>(0.1343, 0.4518]</td>\n",
       "      <td>U3</td>\n",
       "      <td>(0.134, 0.452]</td>\n",
       "      <td>UT2</td>\n",
       "      <td>P3</td>\n",
       "      <td>(0.06092, 0.2108]</td>\n",
       "      <td>0</td>\n",
       "      <td>0</td>\n",
       "    </tr>\n",
       "    <tr>\n",
       "      <th>3</th>\n",
       "      <td>(9999.9, 50000.0]</td>\n",
       "      <td>L1</td>\n",
       "      <td>A3</td>\n",
       "      <td>(34.0, 41.0]</td>\n",
       "      <td>A2</td>\n",
       "      <td>(30.0, 39.0]</td>\n",
       "      <td>2</td>\n",
       "      <td>(0.7582, 5.3643]</td>\n",
       "      <td>U5</td>\n",
       "      <td>(0.758, 5.364]</td>\n",
       "      <td>UT4</td>\n",
       "      <td>P1</td>\n",
       "      <td>(-0.0001, 0.03988]</td>\n",
       "      <td>0</td>\n",
       "      <td>0</td>\n",
       "    </tr>\n",
       "    <tr>\n",
       "      <th>4</th>\n",
       "      <td>(9999.9, 50000.0]</td>\n",
       "      <td>L1</td>\n",
       "      <td>A4</td>\n",
       "      <td>(41.0, 79.0]</td>\n",
       "      <td>A3</td>\n",
       "      <td>(39.0, 79.0]</td>\n",
       "      <td>2</td>\n",
       "      <td>(0.1343, 0.4518]</td>\n",
       "      <td>U3</td>\n",
       "      <td>(0.134, 0.452]</td>\n",
       "      <td>UT2</td>\n",
       "      <td>P4</td>\n",
       "      <td>(0.2108, 0.808]</td>\n",
       "      <td>0</td>\n",
       "      <td>0</td>\n",
       "    </tr>\n",
       "  </tbody>\n",
       "</table>\n",
       "</div>"
      ],
      "text/plain": [
       "         LIMIT_BAL_bin LIMIT_BAL_bin_lbl Age_bin_lbl       Age_bin  \\\n",
       "0    (9999.9, 50000.0]                L1          A1  (20.9, 28.0]   \n",
       "1  (50000.0, 140000.0]                L2          A1  (20.9, 28.0]   \n",
       "2  (50000.0, 140000.0]                L2          A2  (28.0, 34.0]   \n",
       "3    (9999.9, 50000.0]                L1          A3  (34.0, 41.0]   \n",
       "4    (9999.9, 50000.0]                L1          A4  (41.0, 79.0]   \n",
       "\n",
       "  Age_bin2_lbl      Age_bin2 Edu        Avg_Use_bin Avg_Use_bin_lbl  \\\n",
       "0           A1  (20.9, 30.0]   2  (0.01785, 0.1343]              U2   \n",
       "1           A1  (20.9, 30.0]   2  (0.01785, 0.1343]              U2   \n",
       "2           A2  (30.0, 39.0]   2   (0.1343, 0.4518]              U3   \n",
       "3           A2  (30.0, 39.0]   2   (0.7582, 5.3643]              U5   \n",
       "4           A3  (39.0, 79.0]   2   (0.1343, 0.4518]              U3   \n",
       "\n",
       "      Avg_Use_bins2 Avg_Use_bins2_lbl Tot_percpaid_lbl    Tot_percpaid_bin  \\\n",
       "0  (-0.0001, 0.134]               UT1               P3   (0.06092, 0.2108]   \n",
       "1  (-0.0001, 0.134]               UT1               P4     (0.2108, 0.808]   \n",
       "2    (0.134, 0.452]               UT2               P3   (0.06092, 0.2108]   \n",
       "3    (0.758, 5.364]               UT4               P1  (-0.0001, 0.03988]   \n",
       "4    (0.134, 0.452]               UT2               P4     (0.2108, 0.808]   \n",
       "\n",
       "  Delay_bin  Default  \n",
       "0       2_3        1  \n",
       "1       2_3        1  \n",
       "2         0        0  \n",
       "3         0        0  \n",
       "4         0        0  "
      ]
     },
     "execution_count": 235,
     "metadata": {},
     "output_type": "execute_result"
    }
   ],
   "source": [
    "data.head()"
   ]
  },
  {
   "cell_type": "code",
   "execution_count": 236,
   "metadata": {
    "collapsed": true
   },
   "outputs": [],
   "source": [
    "df_WoeIV=pd.DataFrame(columns=[ 'bin', 'count', 'bad', 'good','% of bad', '% of good', 'WoE', 'IV', 'Var'])"
   ]
  },
  {
   "cell_type": "markdown",
   "metadata": {},
   "source": [
    "## WOE and IV for LIMIT_BAL"
   ]
  },
  {
   "cell_type": "code",
   "execution_count": 237,
   "metadata": {
    "collapsed": true
   },
   "outputs": [],
   "source": [
    "def Get_WoeIV(bins,target):\n",
    "    df=data[[bins,target]]\n",
    "#     df.loc[:,bins]=df.loc[:,bins].astype(str)\n",
    "    d=df.groupby(by=bins,as_index=False).agg({target:[\"count\",\"sum\"]})\n",
    "    d.columns = [\"bin\", 'count', 'bad']\n",
    "    d[\"good\"]=d[\"count\"]-d[\"bad\"]\n",
    "    d['% of bad'] = d['bad'] / d['bad'].sum()\n",
    "    d['% of good'] = d['good'] / d['good'].sum()\n",
    "    d['WoE'] = np.log(d['% of bad']/d['% of good'])\n",
    "    d['IV'] = d['WoE'] * (d['% of bad'] - d['% of good'])\n",
    "    d[\"Var\"]=bins\n",
    "    d.columns=['bin', 'count', 'bad', 'good','% of bad', '% of good', 'WoE', 'IV', 'Var']\n",
    "    return(d)"
   ]
  },
  {
   "cell_type": "code",
   "execution_count": 238,
   "metadata": {
    "collapsed": true
   },
   "outputs": [],
   "source": [
    "target=\"Default\""
   ]
  },
  {
   "cell_type": "code",
   "execution_count": 239,
   "metadata": {
    "collapsed": false
   },
   "outputs": [
    {
     "data": {
      "text/plain": [
       "Index(['LIMIT_BAL_bin', 'LIMIT_BAL_bin_lbl', 'Age_bin_lbl', 'Age_bin',\n",
       "       'Age_bin2_lbl', 'Age_bin2', 'Edu', 'Avg_Use_bin', 'Avg_Use_bin_lbl',\n",
       "       'Avg_Use_bins2', 'Avg_Use_bins2_lbl', 'Tot_percpaid_lbl',\n",
       "       'Tot_percpaid_bin', 'Delay_bin', 'Default'],\n",
       "      dtype='object')"
      ]
     },
     "execution_count": 239,
     "metadata": {},
     "output_type": "execute_result"
    }
   ],
   "source": [
    "data.columns"
   ]
  },
  {
   "cell_type": "code",
   "execution_count": 240,
   "metadata": {
    "collapsed": false,
    "scrolled": true
   },
   "outputs": [],
   "source": [
    "df_WoeIV=pd.concat([df_WoeIV,Get_WoeIV(\"LIMIT_BAL_bin\",target)],axis=0)"
   ]
  },
  {
   "cell_type": "code",
   "execution_count": 241,
   "metadata": {
    "collapsed": false
   },
   "outputs": [],
   "source": [
    "df_WoeIV=pd.concat([df_WoeIV,Get_WoeIV(\"Age_bin\",target)],axis=0)"
   ]
  },
  {
   "cell_type": "code",
   "execution_count": 242,
   "metadata": {
    "collapsed": false
   },
   "outputs": [],
   "source": [
    "df_WoeIV=pd.concat([df_WoeIV,Get_WoeIV(\"Age_bin2\",target)],axis=0)"
   ]
  },
  {
   "cell_type": "code",
   "execution_count": 243,
   "metadata": {
    "collapsed": false
   },
   "outputs": [],
   "source": [
    "df_WoeIV=pd.concat([df_WoeIV,Get_WoeIV(\"Edu\",target)],axis=0)"
   ]
  },
  {
   "cell_type": "code",
   "execution_count": 244,
   "metadata": {
    "collapsed": false
   },
   "outputs": [],
   "source": [
    "df_WoeIV=pd.concat([df_WoeIV,Get_WoeIV(\"Avg_Use_bin\",target)],axis=0)"
   ]
  },
  {
   "cell_type": "code",
   "execution_count": 245,
   "metadata": {
    "collapsed": false
   },
   "outputs": [],
   "source": [
    "df_WoeIV=pd.concat([df_WoeIV,Get_WoeIV(\"Avg_Use_bins2\",target)],axis=0)"
   ]
  },
  {
   "cell_type": "code",
   "execution_count": 246,
   "metadata": {
    "collapsed": false
   },
   "outputs": [],
   "source": [
    "df_WoeIV=pd.concat([df_WoeIV,Get_WoeIV(\"Tot_percpaid_bin\",target)],axis=0)"
   ]
  },
  {
   "cell_type": "code",
   "execution_count": 247,
   "metadata": {
    "collapsed": false
   },
   "outputs": [],
   "source": [
    "df_WoeIV=pd.concat([df_WoeIV,Get_WoeIV(\"Delay_bin\",target)],axis=0)"
   ]
  },
  {
   "cell_type": "code",
   "execution_count": 248,
   "metadata": {
    "collapsed": false
   },
   "outputs": [],
   "source": [
    "df_WoeIV.reset_index(drop=True,inplace=True)"
   ]
  },
  {
   "cell_type": "code",
   "execution_count": 249,
   "metadata": {
    "collapsed": false
   },
   "outputs": [
    {
     "data": {
      "text/html": [
       "<div>\n",
       "<style scoped>\n",
       "    .dataframe tbody tr th:only-of-type {\n",
       "        vertical-align: middle;\n",
       "    }\n",
       "\n",
       "    .dataframe tbody tr th {\n",
       "        vertical-align: top;\n",
       "    }\n",
       "\n",
       "    .dataframe thead th {\n",
       "        text-align: right;\n",
       "    }\n",
       "</style>\n",
       "<table border=\"1\" class=\"dataframe\">\n",
       "  <thead>\n",
       "    <tr style=\"text-align: right;\">\n",
       "      <th></th>\n",
       "      <th>bin</th>\n",
       "      <th>count</th>\n",
       "      <th>bad</th>\n",
       "      <th>good</th>\n",
       "      <th>% of bad</th>\n",
       "      <th>% of good</th>\n",
       "      <th>WoE</th>\n",
       "      <th>IV</th>\n",
       "      <th>Var</th>\n",
       "    </tr>\n",
       "  </thead>\n",
       "  <tbody>\n",
       "    <tr>\n",
       "      <th>0</th>\n",
       "      <td>(140000.0, 240000.0]</td>\n",
       "      <td>7643</td>\n",
       "      <td>1326</td>\n",
       "      <td>6317</td>\n",
       "      <td>0.199819</td>\n",
       "      <td>0.270373</td>\n",
       "      <td>-0.302391</td>\n",
       "      <td>0.021335</td>\n",
       "      <td>LIMIT_BAL_bin</td>\n",
       "    </tr>\n",
       "    <tr>\n",
       "      <th>1</th>\n",
       "      <td>(240000.0, 1000000.0]</td>\n",
       "      <td>7067</td>\n",
       "      <td>988</td>\n",
       "      <td>6079</td>\n",
       "      <td>0.148885</td>\n",
       "      <td>0.260187</td>\n",
       "      <td>-0.558226</td>\n",
       "      <td>0.062132</td>\n",
       "      <td>LIMIT_BAL_bin</td>\n",
       "    </tr>\n",
       "    <tr>\n",
       "      <th>2</th>\n",
       "      <td>(50000.0, 140000.0]</td>\n",
       "      <td>7614</td>\n",
       "      <td>1882</td>\n",
       "      <td>5732</td>\n",
       "      <td>0.283605</td>\n",
       "      <td>0.245335</td>\n",
       "      <td>0.144958</td>\n",
       "      <td>0.005548</td>\n",
       "      <td>LIMIT_BAL_bin</td>\n",
       "    </tr>\n",
       "    <tr>\n",
       "      <th>3</th>\n",
       "      <td>(9999.9, 50000.0]</td>\n",
       "      <td>7676</td>\n",
       "      <td>2440</td>\n",
       "      <td>5236</td>\n",
       "      <td>0.367691</td>\n",
       "      <td>0.224105</td>\n",
       "      <td>0.495127</td>\n",
       "      <td>0.071093</td>\n",
       "      <td>LIMIT_BAL_bin</td>\n",
       "    </tr>\n",
       "    <tr>\n",
       "      <th>4</th>\n",
       "      <td>(20.9, 28.0]</td>\n",
       "      <td>8013</td>\n",
       "      <td>1884</td>\n",
       "      <td>6129</td>\n",
       "      <td>0.283906</td>\n",
       "      <td>0.262327</td>\n",
       "      <td>0.079053</td>\n",
       "      <td>0.001706</td>\n",
       "      <td>Age_bin</td>\n",
       "    </tr>\n",
       "    <tr>\n",
       "      <th>5</th>\n",
       "      <td>(28.0, 34.0]</td>\n",
       "      <td>7683</td>\n",
       "      <td>1487</td>\n",
       "      <td>6196</td>\n",
       "      <td>0.224081</td>\n",
       "      <td>0.265194</td>\n",
       "      <td>-0.168456</td>\n",
       "      <td>0.006926</td>\n",
       "      <td>Age_bin</td>\n",
       "    </tr>\n",
       "    <tr>\n",
       "      <th>6</th>\n",
       "      <td>(34.0, 41.0]</td>\n",
       "      <td>6854</td>\n",
       "      <td>1474</td>\n",
       "      <td>5380</td>\n",
       "      <td>0.222122</td>\n",
       "      <td>0.230269</td>\n",
       "      <td>-0.036022</td>\n",
       "      <td>0.000293</td>\n",
       "      <td>Age_bin</td>\n",
       "    </tr>\n",
       "    <tr>\n",
       "      <th>7</th>\n",
       "      <td>(41.0, 79.0]</td>\n",
       "      <td>7450</td>\n",
       "      <td>1791</td>\n",
       "      <td>5659</td>\n",
       "      <td>0.269892</td>\n",
       "      <td>0.242210</td>\n",
       "      <td>0.108214</td>\n",
       "      <td>0.002995</td>\n",
       "      <td>Age_bin</td>\n",
       "    </tr>\n",
       "    <tr>\n",
       "      <th>8</th>\n",
       "      <td>(20.9, 30.0]</td>\n",
       "      <td>11013</td>\n",
       "      <td>2471</td>\n",
       "      <td>8542</td>\n",
       "      <td>0.372363</td>\n",
       "      <td>0.365605</td>\n",
       "      <td>0.018315</td>\n",
       "      <td>0.000124</td>\n",
       "      <td>Age_bin2</td>\n",
       "    </tr>\n",
       "    <tr>\n",
       "      <th>9</th>\n",
       "      <td>(30.0, 39.0]</td>\n",
       "      <td>9843</td>\n",
       "      <td>2002</td>\n",
       "      <td>7841</td>\n",
       "      <td>0.301688</td>\n",
       "      <td>0.335602</td>\n",
       "      <td>-0.106533</td>\n",
       "      <td>0.003613</td>\n",
       "      <td>Age_bin2</td>\n",
       "    </tr>\n",
       "    <tr>\n",
       "      <th>10</th>\n",
       "      <td>(39.0, 79.0]</td>\n",
       "      <td>9144</td>\n",
       "      <td>2163</td>\n",
       "      <td>6981</td>\n",
       "      <td>0.325949</td>\n",
       "      <td>0.298793</td>\n",
       "      <td>0.086991</td>\n",
       "      <td>0.002362</td>\n",
       "      <td>Age_bin2</td>\n",
       "    </tr>\n",
       "    <tr>\n",
       "      <th>11</th>\n",
       "      <td>1</td>\n",
       "      <td>10585</td>\n",
       "      <td>2036</td>\n",
       "      <td>8549</td>\n",
       "      <td>0.306811</td>\n",
       "      <td>0.365905</td>\n",
       "      <td>-0.176140</td>\n",
       "      <td>0.010409</td>\n",
       "      <td>Edu</td>\n",
       "    </tr>\n",
       "    <tr>\n",
       "      <th>12</th>\n",
       "      <td>2</td>\n",
       "      <td>14030</td>\n",
       "      <td>3330</td>\n",
       "      <td>10700</td>\n",
       "      <td>0.501808</td>\n",
       "      <td>0.457970</td>\n",
       "      <td>0.091416</td>\n",
       "      <td>0.004008</td>\n",
       "      <td>Edu</td>\n",
       "    </tr>\n",
       "    <tr>\n",
       "      <th>13</th>\n",
       "      <td>3</td>\n",
       "      <td>5385</td>\n",
       "      <td>1270</td>\n",
       "      <td>4115</td>\n",
       "      <td>0.191380</td>\n",
       "      <td>0.176126</td>\n",
       "      <td>0.083065</td>\n",
       "      <td>0.001267</td>\n",
       "      <td>Edu</td>\n",
       "    </tr>\n",
       "    <tr>\n",
       "      <th>14</th>\n",
       "      <td>(-0.0001, 0.01785]</td>\n",
       "      <td>6000</td>\n",
       "      <td>1357</td>\n",
       "      <td>4643</td>\n",
       "      <td>0.204491</td>\n",
       "      <td>0.198725</td>\n",
       "      <td>0.028603</td>\n",
       "      <td>0.000165</td>\n",
       "      <td>Avg_Use_bin</td>\n",
       "    </tr>\n",
       "    <tr>\n",
       "      <th>15</th>\n",
       "      <td>(0.01785, 0.1343]</td>\n",
       "      <td>6000</td>\n",
       "      <td>859</td>\n",
       "      <td>5141</td>\n",
       "      <td>0.129445</td>\n",
       "      <td>0.220039</td>\n",
       "      <td>-0.530547</td>\n",
       "      <td>0.048064</td>\n",
       "      <td>Avg_Use_bin</td>\n",
       "    </tr>\n",
       "    <tr>\n",
       "      <th>16</th>\n",
       "      <td>(0.1343, 0.4518]</td>\n",
       "      <td>6000</td>\n",
       "      <td>1059</td>\n",
       "      <td>4941</td>\n",
       "      <td>0.159584</td>\n",
       "      <td>0.211479</td>\n",
       "      <td>-0.281556</td>\n",
       "      <td>0.014611</td>\n",
       "      <td>Avg_Use_bin</td>\n",
       "    </tr>\n",
       "    <tr>\n",
       "      <th>17</th>\n",
       "      <td>(0.4518, 0.7582]</td>\n",
       "      <td>6000</td>\n",
       "      <td>1488</td>\n",
       "      <td>4512</td>\n",
       "      <td>0.224231</td>\n",
       "      <td>0.193118</td>\n",
       "      <td>0.149379</td>\n",
       "      <td>0.004648</td>\n",
       "      <td>Avg_Use_bin</td>\n",
       "    </tr>\n",
       "    <tr>\n",
       "      <th>18</th>\n",
       "      <td>(0.7582, 5.3643]</td>\n",
       "      <td>6000</td>\n",
       "      <td>1873</td>\n",
       "      <td>4127</td>\n",
       "      <td>0.282248</td>\n",
       "      <td>0.176639</td>\n",
       "      <td>0.468678</td>\n",
       "      <td>0.049497</td>\n",
       "      <td>Avg_Use_bin</td>\n",
       "    </tr>\n",
       "    <tr>\n",
       "      <th>19</th>\n",
       "      <td>(-0.0001, 0.134]</td>\n",
       "      <td>12002</td>\n",
       "      <td>2216</td>\n",
       "      <td>9786</td>\n",
       "      <td>0.333936</td>\n",
       "      <td>0.418850</td>\n",
       "      <td>-0.226562</td>\n",
       "      <td>0.019238</td>\n",
       "      <td>Avg_Use_bins2</td>\n",
       "    </tr>\n",
       "    <tr>\n",
       "      <th>20</th>\n",
       "      <td>(0.134, 0.452]</td>\n",
       "      <td>5997</td>\n",
       "      <td>1059</td>\n",
       "      <td>4938</td>\n",
       "      <td>0.159584</td>\n",
       "      <td>0.211351</td>\n",
       "      <td>-0.280948</td>\n",
       "      <td>0.014544</td>\n",
       "      <td>Avg_Use_bins2</td>\n",
       "    </tr>\n",
       "    <tr>\n",
       "      <th>21</th>\n",
       "      <td>(0.452, 0.758]</td>\n",
       "      <td>6001</td>\n",
       "      <td>1488</td>\n",
       "      <td>4513</td>\n",
       "      <td>0.224231</td>\n",
       "      <td>0.193160</td>\n",
       "      <td>0.149158</td>\n",
       "      <td>0.004634</td>\n",
       "      <td>Avg_Use_bins2</td>\n",
       "    </tr>\n",
       "    <tr>\n",
       "      <th>22</th>\n",
       "      <td>(0.758, 5.364]</td>\n",
       "      <td>6000</td>\n",
       "      <td>1873</td>\n",
       "      <td>4127</td>\n",
       "      <td>0.282248</td>\n",
       "      <td>0.176639</td>\n",
       "      <td>0.468678</td>\n",
       "      <td>0.049497</td>\n",
       "      <td>Avg_Use_bins2</td>\n",
       "    </tr>\n",
       "    <tr>\n",
       "      <th>23</th>\n",
       "      <td>(-0.0001, 0.03988]</td>\n",
       "      <td>5827</td>\n",
       "      <td>1680</td>\n",
       "      <td>4147</td>\n",
       "      <td>0.253165</td>\n",
       "      <td>0.177495</td>\n",
       "      <td>0.355096</td>\n",
       "      <td>0.026870</td>\n",
       "      <td>Tot_percpaid_bin</td>\n",
       "    </tr>\n",
       "    <tr>\n",
       "      <th>24</th>\n",
       "      <td>(0.03988, 0.06092]</td>\n",
       "      <td>5826</td>\n",
       "      <td>1495</td>\n",
       "      <td>4331</td>\n",
       "      <td>0.225286</td>\n",
       "      <td>0.185371</td>\n",
       "      <td>0.195015</td>\n",
       "      <td>0.007784</td>\n",
       "      <td>Tot_percpaid_bin</td>\n",
       "    </tr>\n",
       "    <tr>\n",
       "      <th>25</th>\n",
       "      <td>(0.06092, 0.2108]</td>\n",
       "      <td>5826</td>\n",
       "      <td>1354</td>\n",
       "      <td>4472</td>\n",
       "      <td>0.204039</td>\n",
       "      <td>0.191406</td>\n",
       "      <td>0.063914</td>\n",
       "      <td>0.000807</td>\n",
       "      <td>Tot_percpaid_bin</td>\n",
       "    </tr>\n",
       "    <tr>\n",
       "      <th>26</th>\n",
       "      <td>(0.2108, 0.808]</td>\n",
       "      <td>5826</td>\n",
       "      <td>890</td>\n",
       "      <td>4936</td>\n",
       "      <td>0.134117</td>\n",
       "      <td>0.211265</td>\n",
       "      <td>-0.454402</td>\n",
       "      <td>0.035056</td>\n",
       "      <td>Tot_percpaid_bin</td>\n",
       "    </tr>\n",
       "    <tr>\n",
       "      <th>27</th>\n",
       "      <td>(0.808, inf]</td>\n",
       "      <td>5826</td>\n",
       "      <td>895</td>\n",
       "      <td>4931</td>\n",
       "      <td>0.134870</td>\n",
       "      <td>0.211051</td>\n",
       "      <td>-0.447786</td>\n",
       "      <td>0.034113</td>\n",
       "      <td>Tot_percpaid_bin</td>\n",
       "    </tr>\n",
       "    <tr>\n",
       "      <th>28</th>\n",
       "      <td>nan</td>\n",
       "      <td>869</td>\n",
       "      <td>322</td>\n",
       "      <td>547</td>\n",
       "      <td>0.048523</td>\n",
       "      <td>0.023412</td>\n",
       "      <td>0.728790</td>\n",
       "      <td>0.018301</td>\n",
       "      <td>Tot_percpaid_bin</td>\n",
       "    </tr>\n",
       "    <tr>\n",
       "      <th>29</th>\n",
       "      <td>0</td>\n",
       "      <td>19931</td>\n",
       "      <td>2334</td>\n",
       "      <td>17597</td>\n",
       "      <td>0.351718</td>\n",
       "      <td>0.753167</td>\n",
       "      <td>-0.761458</td>\n",
       "      <td>0.305687</td>\n",
       "      <td>Delay_bin</td>\n",
       "    </tr>\n",
       "    <tr>\n",
       "      <th>30</th>\n",
       "      <td>1</td>\n",
       "      <td>4426</td>\n",
       "      <td>1320</td>\n",
       "      <td>3106</td>\n",
       "      <td>0.198915</td>\n",
       "      <td>0.132940</td>\n",
       "      <td>0.402983</td>\n",
       "      <td>0.026587</td>\n",
       "      <td>Delay_bin</td>\n",
       "    </tr>\n",
       "    <tr>\n",
       "      <th>31</th>\n",
       "      <td>2_3</td>\n",
       "      <td>3053</td>\n",
       "      <td>1323</td>\n",
       "      <td>1730</td>\n",
       "      <td>0.199367</td>\n",
       "      <td>0.074046</td>\n",
       "      <td>0.990467</td>\n",
       "      <td>0.124127</td>\n",
       "      <td>Delay_bin</td>\n",
       "    </tr>\n",
       "    <tr>\n",
       "      <th>32</th>\n",
       "      <td>4_6</td>\n",
       "      <td>2590</td>\n",
       "      <td>1659</td>\n",
       "      <td>931</td>\n",
       "      <td>0.250000</td>\n",
       "      <td>0.039848</td>\n",
       "      <td>1.836398</td>\n",
       "      <td>0.385923</td>\n",
       "      <td>Delay_bin</td>\n",
       "    </tr>\n",
       "  </tbody>\n",
       "</table>\n",
       "</div>"
      ],
      "text/plain": [
       "                      bin  count   bad   good  % of bad  % of good       WoE  \\\n",
       "0    (140000.0, 240000.0]   7643  1326   6317  0.199819   0.270373 -0.302391   \n",
       "1   (240000.0, 1000000.0]   7067   988   6079  0.148885   0.260187 -0.558226   \n",
       "2     (50000.0, 140000.0]   7614  1882   5732  0.283605   0.245335  0.144958   \n",
       "3       (9999.9, 50000.0]   7676  2440   5236  0.367691   0.224105  0.495127   \n",
       "4            (20.9, 28.0]   8013  1884   6129  0.283906   0.262327  0.079053   \n",
       "5            (28.0, 34.0]   7683  1487   6196  0.224081   0.265194 -0.168456   \n",
       "6            (34.0, 41.0]   6854  1474   5380  0.222122   0.230269 -0.036022   \n",
       "7            (41.0, 79.0]   7450  1791   5659  0.269892   0.242210  0.108214   \n",
       "8            (20.9, 30.0]  11013  2471   8542  0.372363   0.365605  0.018315   \n",
       "9            (30.0, 39.0]   9843  2002   7841  0.301688   0.335602 -0.106533   \n",
       "10           (39.0, 79.0]   9144  2163   6981  0.325949   0.298793  0.086991   \n",
       "11                      1  10585  2036   8549  0.306811   0.365905 -0.176140   \n",
       "12                      2  14030  3330  10700  0.501808   0.457970  0.091416   \n",
       "13                      3   5385  1270   4115  0.191380   0.176126  0.083065   \n",
       "14     (-0.0001, 0.01785]   6000  1357   4643  0.204491   0.198725  0.028603   \n",
       "15      (0.01785, 0.1343]   6000   859   5141  0.129445   0.220039 -0.530547   \n",
       "16       (0.1343, 0.4518]   6000  1059   4941  0.159584   0.211479 -0.281556   \n",
       "17       (0.4518, 0.7582]   6000  1488   4512  0.224231   0.193118  0.149379   \n",
       "18       (0.7582, 5.3643]   6000  1873   4127  0.282248   0.176639  0.468678   \n",
       "19       (-0.0001, 0.134]  12002  2216   9786  0.333936   0.418850 -0.226562   \n",
       "20         (0.134, 0.452]   5997  1059   4938  0.159584   0.211351 -0.280948   \n",
       "21         (0.452, 0.758]   6001  1488   4513  0.224231   0.193160  0.149158   \n",
       "22         (0.758, 5.364]   6000  1873   4127  0.282248   0.176639  0.468678   \n",
       "23     (-0.0001, 0.03988]   5827  1680   4147  0.253165   0.177495  0.355096   \n",
       "24     (0.03988, 0.06092]   5826  1495   4331  0.225286   0.185371  0.195015   \n",
       "25      (0.06092, 0.2108]   5826  1354   4472  0.204039   0.191406  0.063914   \n",
       "26        (0.2108, 0.808]   5826   890   4936  0.134117   0.211265 -0.454402   \n",
       "27           (0.808, inf]   5826   895   4931  0.134870   0.211051 -0.447786   \n",
       "28                    nan    869   322    547  0.048523   0.023412  0.728790   \n",
       "29                      0  19931  2334  17597  0.351718   0.753167 -0.761458   \n",
       "30                      1   4426  1320   3106  0.198915   0.132940  0.402983   \n",
       "31                    2_3   3053  1323   1730  0.199367   0.074046  0.990467   \n",
       "32                    4_6   2590  1659    931  0.250000   0.039848  1.836398   \n",
       "\n",
       "          IV               Var  \n",
       "0   0.021335     LIMIT_BAL_bin  \n",
       "1   0.062132     LIMIT_BAL_bin  \n",
       "2   0.005548     LIMIT_BAL_bin  \n",
       "3   0.071093     LIMIT_BAL_bin  \n",
       "4   0.001706           Age_bin  \n",
       "5   0.006926           Age_bin  \n",
       "6   0.000293           Age_bin  \n",
       "7   0.002995           Age_bin  \n",
       "8   0.000124          Age_bin2  \n",
       "9   0.003613          Age_bin2  \n",
       "10  0.002362          Age_bin2  \n",
       "11  0.010409               Edu  \n",
       "12  0.004008               Edu  \n",
       "13  0.001267               Edu  \n",
       "14  0.000165       Avg_Use_bin  \n",
       "15  0.048064       Avg_Use_bin  \n",
       "16  0.014611       Avg_Use_bin  \n",
       "17  0.004648       Avg_Use_bin  \n",
       "18  0.049497       Avg_Use_bin  \n",
       "19  0.019238     Avg_Use_bins2  \n",
       "20  0.014544     Avg_Use_bins2  \n",
       "21  0.004634     Avg_Use_bins2  \n",
       "22  0.049497     Avg_Use_bins2  \n",
       "23  0.026870  Tot_percpaid_bin  \n",
       "24  0.007784  Tot_percpaid_bin  \n",
       "25  0.000807  Tot_percpaid_bin  \n",
       "26  0.035056  Tot_percpaid_bin  \n",
       "27  0.034113  Tot_percpaid_bin  \n",
       "28  0.018301  Tot_percpaid_bin  \n",
       "29  0.305687         Delay_bin  \n",
       "30  0.026587         Delay_bin  \n",
       "31  0.124127         Delay_bin  \n",
       "32  0.385923         Delay_bin  "
      ]
     },
     "execution_count": 249,
     "metadata": {},
     "output_type": "execute_result"
    }
   ],
   "source": [
    "df_WoeIV"
   ]
  },
  {
   "cell_type": "code",
   "execution_count": 250,
   "metadata": {
    "collapsed": false
   },
   "outputs": [
    {
     "data": {
      "text/html": [
       "<div>\n",
       "<style scoped>\n",
       "    .dataframe tbody tr th:only-of-type {\n",
       "        vertical-align: middle;\n",
       "    }\n",
       "\n",
       "    .dataframe tbody tr th {\n",
       "        vertical-align: top;\n",
       "    }\n",
       "\n",
       "    .dataframe thead th {\n",
       "        text-align: right;\n",
       "    }\n",
       "</style>\n",
       "<table border=\"1\" class=\"dataframe\">\n",
       "  <thead>\n",
       "    <tr style=\"text-align: right;\">\n",
       "      <th></th>\n",
       "      <th>Var</th>\n",
       "      <th>IV</th>\n",
       "    </tr>\n",
       "  </thead>\n",
       "  <tbody>\n",
       "    <tr>\n",
       "      <th>4</th>\n",
       "      <td>Delay_bin</td>\n",
       "      <td>0.842324</td>\n",
       "    </tr>\n",
       "    <tr>\n",
       "      <th>6</th>\n",
       "      <td>LIMIT_BAL_bin</td>\n",
       "      <td>0.160107</td>\n",
       "    </tr>\n",
       "    <tr>\n",
       "      <th>7</th>\n",
       "      <td>Tot_percpaid_bin</td>\n",
       "      <td>0.122931</td>\n",
       "    </tr>\n",
       "    <tr>\n",
       "      <th>2</th>\n",
       "      <td>Avg_Use_bin</td>\n",
       "      <td>0.116985</td>\n",
       "    </tr>\n",
       "    <tr>\n",
       "      <th>3</th>\n",
       "      <td>Avg_Use_bins2</td>\n",
       "      <td>0.087913</td>\n",
       "    </tr>\n",
       "    <tr>\n",
       "      <th>5</th>\n",
       "      <td>Edu</td>\n",
       "      <td>0.015683</td>\n",
       "    </tr>\n",
       "    <tr>\n",
       "      <th>0</th>\n",
       "      <td>Age_bin</td>\n",
       "      <td>0.011921</td>\n",
       "    </tr>\n",
       "    <tr>\n",
       "      <th>1</th>\n",
       "      <td>Age_bin2</td>\n",
       "      <td>0.006099</td>\n",
       "    </tr>\n",
       "  </tbody>\n",
       "</table>\n",
       "</div>"
      ],
      "text/plain": [
       "                Var        IV\n",
       "4         Delay_bin  0.842324\n",
       "6     LIMIT_BAL_bin  0.160107\n",
       "7  Tot_percpaid_bin  0.122931\n",
       "2       Avg_Use_bin  0.116985\n",
       "3     Avg_Use_bins2  0.087913\n",
       "5               Edu  0.015683\n",
       "0           Age_bin  0.011921\n",
       "1          Age_bin2  0.006099"
      ]
     },
     "execution_count": 250,
     "metadata": {},
     "output_type": "execute_result"
    }
   ],
   "source": [
    "df_WoeIV[[\"IV\",\"Var\"]].groupby(by=\"Var\",as_index=False).agg(sum).sort_values(\"IV\",ascending=False)"
   ]
  },
  {
   "cell_type": "code",
   "execution_count": 251,
   "metadata": {
    "collapsed": false
   },
   "outputs": [],
   "source": [
    "data_Woe=data[[\"Delay_bin\",\"LIMIT_BAL_bin\",\"Avg_Use_bin\",\"Tot_percpaid_bin\",\"Edu\",\"Age_bin\",\"Default\"]].copy()"
   ]
  },
  {
   "cell_type": "code",
   "execution_count": 252,
   "metadata": {
    "collapsed": false
   },
   "outputs": [],
   "source": [
    "def Transform_data(data_Woe,target):\n",
    "    for col in data_Woe.columns[data_Woe.columns!=target]:\n",
    "        temp=df_WoeIV.loc[df_WoeIV.Var==col,[\"bin\",\"WoE\"]]\n",
    "        data_Woe=data_Woe.merge(temp,how=\"left\",left_on=col,right_on=\"bin\")\n",
    "        data_Woe.drop([col,\"bin\"],axis=1,inplace=True)\n",
    "        data_Woe.rename(columns={\"WoE\":col},inplace=True)\n",
    "    return data_Woe"
   ]
  },
  {
   "cell_type": "code",
   "execution_count": 253,
   "metadata": {
    "collapsed": false
   },
   "outputs": [],
   "source": [
    "data_final=Transform_data(data_Woe,target)"
   ]
  },
  {
   "cell_type": "code",
   "execution_count": 254,
   "metadata": {
    "collapsed": false
   },
   "outputs": [
    {
     "data": {
      "text/html": [
       "<div>\n",
       "<style scoped>\n",
       "    .dataframe tbody tr th:only-of-type {\n",
       "        vertical-align: middle;\n",
       "    }\n",
       "\n",
       "    .dataframe tbody tr th {\n",
       "        vertical-align: top;\n",
       "    }\n",
       "\n",
       "    .dataframe thead th {\n",
       "        text-align: right;\n",
       "    }\n",
       "</style>\n",
       "<table border=\"1\" class=\"dataframe\">\n",
       "  <thead>\n",
       "    <tr style=\"text-align: right;\">\n",
       "      <th></th>\n",
       "      <th>Default</th>\n",
       "      <th>Delay_bin</th>\n",
       "      <th>LIMIT_BAL_bin</th>\n",
       "      <th>Avg_Use_bin</th>\n",
       "      <th>Tot_percpaid_bin</th>\n",
       "      <th>Edu</th>\n",
       "      <th>Age_bin</th>\n",
       "    </tr>\n",
       "  </thead>\n",
       "  <tbody>\n",
       "    <tr>\n",
       "      <th>0</th>\n",
       "      <td>1</td>\n",
       "      <td>0.990467</td>\n",
       "      <td>0.495127</td>\n",
       "      <td>-0.530547</td>\n",
       "      <td>0.063914</td>\n",
       "      <td>0.091416</td>\n",
       "      <td>0.079053</td>\n",
       "    </tr>\n",
       "    <tr>\n",
       "      <th>1</th>\n",
       "      <td>1</td>\n",
       "      <td>0.990467</td>\n",
       "      <td>0.144958</td>\n",
       "      <td>-0.530547</td>\n",
       "      <td>-0.454402</td>\n",
       "      <td>0.091416</td>\n",
       "      <td>0.079053</td>\n",
       "    </tr>\n",
       "    <tr>\n",
       "      <th>2</th>\n",
       "      <td>0</td>\n",
       "      <td>-0.761458</td>\n",
       "      <td>0.144958</td>\n",
       "      <td>-0.281556</td>\n",
       "      <td>0.063914</td>\n",
       "      <td>0.091416</td>\n",
       "      <td>-0.168456</td>\n",
       "    </tr>\n",
       "    <tr>\n",
       "      <th>3</th>\n",
       "      <td>0</td>\n",
       "      <td>-0.761458</td>\n",
       "      <td>0.495127</td>\n",
       "      <td>0.468678</td>\n",
       "      <td>0.355096</td>\n",
       "      <td>0.091416</td>\n",
       "      <td>-0.036022</td>\n",
       "    </tr>\n",
       "    <tr>\n",
       "      <th>4</th>\n",
       "      <td>0</td>\n",
       "      <td>-0.761458</td>\n",
       "      <td>0.495127</td>\n",
       "      <td>-0.281556</td>\n",
       "      <td>-0.454402</td>\n",
       "      <td>0.091416</td>\n",
       "      <td>0.108214</td>\n",
       "    </tr>\n",
       "  </tbody>\n",
       "</table>\n",
       "</div>"
      ],
      "text/plain": [
       "   Default  Delay_bin  LIMIT_BAL_bin  Avg_Use_bin  Tot_percpaid_bin       Edu  \\\n",
       "0        1   0.990467       0.495127    -0.530547          0.063914  0.091416   \n",
       "1        1   0.990467       0.144958    -0.530547         -0.454402  0.091416   \n",
       "2        0  -0.761458       0.144958    -0.281556          0.063914  0.091416   \n",
       "3        0  -0.761458       0.495127     0.468678          0.355096  0.091416   \n",
       "4        0  -0.761458       0.495127    -0.281556         -0.454402  0.091416   \n",
       "\n",
       "    Age_bin  \n",
       "0  0.079053  \n",
       "1  0.079053  \n",
       "2 -0.168456  \n",
       "3 -0.036022  \n",
       "4  0.108214  "
      ]
     },
     "execution_count": 254,
     "metadata": {},
     "output_type": "execute_result"
    }
   ],
   "source": [
    "data_final.head()"
   ]
  },
  {
   "cell_type": "markdown",
   "metadata": {},
   "source": [
    "### Logistic Regression"
   ]
  },
  {
   "cell_type": "code",
   "execution_count": 255,
   "metadata": {
    "collapsed": true
   },
   "outputs": [],
   "source": [
    "from sklearn.linear_model import LogisticRegression\n",
    "from sklearn import metrics\n",
    "from sklearn.model_selection import train_test_split"
   ]
  },
  {
   "cell_type": "code",
   "execution_count": 256,
   "metadata": {
    "collapsed": false
   },
   "outputs": [],
   "source": [
    "X=data_final.loc[:,data_final.columns!=target]\n",
    "y=data_final.loc[:,target]"
   ]
  },
  {
   "cell_type": "code",
   "execution_count": 257,
   "metadata": {
    "collapsed": false
   },
   "outputs": [
    {
     "data": {
      "text/plain": [
       "LogisticRegression(C=1.0, class_weight=None, dual=False, fit_intercept=True,\n",
       "          intercept_scaling=1, max_iter=100, multi_class='ovr', n_jobs=1,\n",
       "          penalty='l2', random_state=None, solver='liblinear', tol=0.0001,\n",
       "          verbose=0, warm_start=False)"
      ]
     },
     "execution_count": 257,
     "metadata": {},
     "output_type": "execute_result"
    }
   ],
   "source": [
    "X_train, X_test, y_train, y_test = train_test_split(X, y, test_size=0.3, random_state=0)\n",
    "logreg = LogisticRegression()\n",
    "logreg.fit(X_train, y_train)"
   ]
  },
  {
   "cell_type": "code",
   "execution_count": 258,
   "metadata": {
    "collapsed": false
   },
   "outputs": [
    {
     "data": {
      "text/plain": [
       "(array([[ 0.91088135,  0.3359032 ,  0.23690907,  0.36634451, -0.08892873,\n",
       "          0.45194333]]), array([-1.24433111]))"
      ]
     },
     "execution_count": 258,
     "metadata": {},
     "output_type": "execute_result"
    }
   ],
   "source": [
    "logreg.coef_,logreg.intercept_"
   ]
  },
  {
   "cell_type": "code",
   "execution_count": 259,
   "metadata": {
    "collapsed": true
   },
   "outputs": [],
   "source": [
    "X_test.to_csv(\"X_test.csv\")\n",
    "y_test.to_csv(\"y_test.csv\")"
   ]
  },
  {
   "cell_type": "markdown",
   "metadata": {},
   "source": [
    "### LR using statsmodels"
   ]
  },
  {
   "cell_type": "code",
   "execution_count": 260,
   "metadata": {
    "collapsed": true
   },
   "outputs": [],
   "source": [
    "import statsmodels.formula.api as sm"
   ]
  },
  {
   "cell_type": "code",
   "execution_count": 261,
   "metadata": {
    "collapsed": true
   },
   "outputs": [],
   "source": [
    "X_train.insert(0, 'intercept', 1)\n",
    "X_test.insert(0, 'intercept', 1)"
   ]
  },
  {
   "cell_type": "code",
   "execution_count": 262,
   "metadata": {
    "collapsed": false
   },
   "outputs": [
    {
     "name": "stdout",
     "output_type": "stream",
     "text": [
      "Optimization terminated successfully.\n",
      "         Current function value: 0.454152\n",
      "         Iterations 6\n"
     ]
    }
   ],
   "source": [
    "model = sm.Logit(endog=y_train,exog= X_train)\n",
    "\n",
    "result = model.fit()"
   ]
  },
  {
   "cell_type": "code",
   "execution_count": 263,
   "metadata": {
    "collapsed": false
   },
   "outputs": [
    {
     "data": {
      "text/html": [
       "<table class=\"simpletable\">\n",
       "<caption>Logit Regression Results</caption>\n",
       "<tr>\n",
       "  <th>Dep. Variable:</th>      <td>Default</td>     <th>  No. Observations:  </th>  <td> 21000</td> \n",
       "</tr>\n",
       "<tr>\n",
       "  <th>Model:</th>               <td>Logit</td>      <th>  Df Residuals:      </th>  <td> 20993</td> \n",
       "</tr>\n",
       "<tr>\n",
       "  <th>Method:</th>               <td>MLE</td>       <th>  Df Model:          </th>  <td>     6</td> \n",
       "</tr>\n",
       "<tr>\n",
       "  <th>Date:</th>          <td>Thu, 19 Sep 2019</td> <th>  Pseudo R-squ.:     </th>  <td>0.1454</td> \n",
       "</tr>\n",
       "<tr>\n",
       "  <th>Time:</th>              <td>23:08:40</td>     <th>  Log-Likelihood:    </th> <td> -9537.2</td>\n",
       "</tr>\n",
       "<tr>\n",
       "  <th>converged:</th>           <td>True</td>       <th>  LL-Null:           </th> <td> -11160.</td>\n",
       "</tr>\n",
       "<tr>\n",
       "  <th> </th>                      <td> </td>        <th>  LLR p-value:       </th>  <td> 0.000</td> \n",
       "</tr>\n",
       "</table>\n",
       "<table class=\"simpletable\">\n",
       "<tr>\n",
       "          <td></td>            <th>coef</th>     <th>std err</th>      <th>z</th>      <th>P>|z|</th>  <th>[0.025</th>    <th>0.975]</th>  \n",
       "</tr>\n",
       "<tr>\n",
       "  <th>intercept</th>        <td>   -1.2449</td> <td>    0.018</td> <td>  -67.608</td> <td> 0.000</td> <td>   -1.281</td> <td>   -1.209</td>\n",
       "</tr>\n",
       "<tr>\n",
       "  <th>Delay_bin</th>        <td>    0.9112</td> <td>    0.020</td> <td>   46.378</td> <td> 0.000</td> <td>    0.873</td> <td>    0.950</td>\n",
       "</tr>\n",
       "<tr>\n",
       "  <th>LIMIT_BAL_bin</th>    <td>    0.3360</td> <td>    0.050</td> <td>    6.697</td> <td> 0.000</td> <td>    0.238</td> <td>    0.434</td>\n",
       "</tr>\n",
       "<tr>\n",
       "  <th>Avg_Use_bin</th>      <td>    0.2370</td> <td>    0.060</td> <td>    3.957</td> <td> 0.000</td> <td>    0.120</td> <td>    0.354</td>\n",
       "</tr>\n",
       "<tr>\n",
       "  <th>Tot_percpaid_bin</th> <td>    0.3673</td> <td>    0.059</td> <td>    6.246</td> <td> 0.000</td> <td>    0.252</td> <td>    0.483</td>\n",
       "</tr>\n",
       "<tr>\n",
       "  <th>Edu</th>              <td>   -0.0929</td> <td>    0.152</td> <td>   -0.612</td> <td> 0.541</td> <td>   -0.391</td> <td>    0.205</td>\n",
       "</tr>\n",
       "<tr>\n",
       "  <th>Age_bin</th>          <td>    0.4649</td> <td>    0.170</td> <td>    2.730</td> <td> 0.006</td> <td>    0.131</td> <td>    0.799</td>\n",
       "</tr>\n",
       "</table>"
      ],
      "text/plain": [
       "<class 'statsmodels.iolib.summary.Summary'>\n",
       "\"\"\"\n",
       "                           Logit Regression Results                           \n",
       "==============================================================================\n",
       "Dep. Variable:                Default   No. Observations:                21000\n",
       "Model:                          Logit   Df Residuals:                    20993\n",
       "Method:                           MLE   Df Model:                            6\n",
       "Date:                Thu, 19 Sep 2019   Pseudo R-squ.:                  0.1454\n",
       "Time:                        23:08:40   Log-Likelihood:                -9537.2\n",
       "converged:                       True   LL-Null:                       -11160.\n",
       "                                        LLR p-value:                     0.000\n",
       "====================================================================================\n",
       "                       coef    std err          z      P>|z|      [0.025      0.975]\n",
       "------------------------------------------------------------------------------------\n",
       "intercept           -1.2449      0.018    -67.608      0.000      -1.281      -1.209\n",
       "Delay_bin            0.9112      0.020     46.378      0.000       0.873       0.950\n",
       "LIMIT_BAL_bin        0.3360      0.050      6.697      0.000       0.238       0.434\n",
       "Avg_Use_bin          0.2370      0.060      3.957      0.000       0.120       0.354\n",
       "Tot_percpaid_bin     0.3673      0.059      6.246      0.000       0.252       0.483\n",
       "Edu                 -0.0929      0.152     -0.612      0.541      -0.391       0.205\n",
       "Age_bin              0.4649      0.170      2.730      0.006       0.131       0.799\n",
       "====================================================================================\n",
       "\"\"\""
      ]
     },
     "execution_count": 263,
     "metadata": {},
     "output_type": "execute_result"
    }
   ],
   "source": [
    "result.summary()"
   ]
  },
  {
   "cell_type": "markdown",
   "metadata": {},
   "source": [
    "### Removing coeffcients having high P-value"
   ]
  },
  {
   "cell_type": "code",
   "execution_count": 264,
   "metadata": {
    "collapsed": false
   },
   "outputs": [
    {
     "name": "stderr",
     "output_type": "stream",
     "text": [
      "C:\\ProgramData\\Anaconda3\\lib\\site-packages\\pandas\\core\\frame.py:3697: SettingWithCopyWarning: \n",
      "A value is trying to be set on a copy of a slice from a DataFrame\n",
      "\n",
      "See the caveats in the documentation: http://pandas.pydata.org/pandas-docs/stable/indexing.html#indexing-view-versus-copy\n",
      "  errors=errors)\n"
     ]
    }
   ],
   "source": [
    "X_train.drop(columns=[\"Edu\"],inplace=True)"
   ]
  },
  {
   "cell_type": "code",
   "execution_count": 265,
   "metadata": {
    "collapsed": false
   },
   "outputs": [
    {
     "name": "stdout",
     "output_type": "stream",
     "text": [
      "Optimization terminated successfully.\n",
      "         Current function value: 0.454160\n",
      "         Iterations 6\n"
     ]
    }
   ],
   "source": [
    "model = sm.Logit(endog=y_train,exog= X_train)\n",
    "\n",
    "result = model.fit()"
   ]
  },
  {
   "cell_type": "code",
   "execution_count": 266,
   "metadata": {
    "collapsed": false
   },
   "outputs": [
    {
     "data": {
      "text/html": [
       "<table class=\"simpletable\">\n",
       "<caption>Logit Regression Results</caption>\n",
       "<tr>\n",
       "  <th>Dep. Variable:</th>      <td>Default</td>     <th>  No. Observations:  </th>  <td> 21000</td> \n",
       "</tr>\n",
       "<tr>\n",
       "  <th>Model:</th>               <td>Logit</td>      <th>  Df Residuals:      </th>  <td> 20994</td> \n",
       "</tr>\n",
       "<tr>\n",
       "  <th>Method:</th>               <td>MLE</td>       <th>  Df Model:          </th>  <td>     5</td> \n",
       "</tr>\n",
       "<tr>\n",
       "  <th>Date:</th>          <td>Thu, 19 Sep 2019</td> <th>  Pseudo R-squ.:     </th>  <td>0.1454</td> \n",
       "</tr>\n",
       "<tr>\n",
       "  <th>Time:</th>              <td>23:08:41</td>     <th>  Log-Likelihood:    </th> <td> -9537.4</td>\n",
       "</tr>\n",
       "<tr>\n",
       "  <th>converged:</th>           <td>True</td>       <th>  LL-Null:           </th> <td> -11160.</td>\n",
       "</tr>\n",
       "<tr>\n",
       "  <th> </th>                      <td> </td>        <th>  LLR p-value:       </th>  <td> 0.000</td> \n",
       "</tr>\n",
       "</table>\n",
       "<table class=\"simpletable\">\n",
       "<tr>\n",
       "          <td></td>            <th>coef</th>     <th>std err</th>      <th>z</th>      <th>P>|z|</th>  <th>[0.025</th>    <th>0.975]</th>  \n",
       "</tr>\n",
       "<tr>\n",
       "  <th>intercept</th>        <td>   -1.2448</td> <td>    0.018</td> <td>  -67.608</td> <td> 0.000</td> <td>   -1.281</td> <td>   -1.209</td>\n",
       "</tr>\n",
       "<tr>\n",
       "  <th>Delay_bin</th>        <td>    0.9113</td> <td>    0.020</td> <td>   46.385</td> <td> 0.000</td> <td>    0.873</td> <td>    0.950</td>\n",
       "</tr>\n",
       "<tr>\n",
       "  <th>LIMIT_BAL_bin</th>    <td>    0.3293</td> <td>    0.049</td> <td>    6.728</td> <td> 0.000</td> <td>    0.233</td> <td>    0.425</td>\n",
       "</tr>\n",
       "<tr>\n",
       "  <th>Avg_Use_bin</th>      <td>    0.2363</td> <td>    0.060</td> <td>    3.946</td> <td> 0.000</td> <td>    0.119</td> <td>    0.354</td>\n",
       "</tr>\n",
       "<tr>\n",
       "  <th>Tot_percpaid_bin</th> <td>    0.3645</td> <td>    0.059</td> <td>    6.217</td> <td> 0.000</td> <td>    0.250</td> <td>    0.479</td>\n",
       "</tr>\n",
       "<tr>\n",
       "  <th>Age_bin</th>          <td>    0.4585</td> <td>    0.170</td> <td>    2.697</td> <td> 0.007</td> <td>    0.125</td> <td>    0.792</td>\n",
       "</tr>\n",
       "</table>"
      ],
      "text/plain": [
       "<class 'statsmodels.iolib.summary.Summary'>\n",
       "\"\"\"\n",
       "                           Logit Regression Results                           \n",
       "==============================================================================\n",
       "Dep. Variable:                Default   No. Observations:                21000\n",
       "Model:                          Logit   Df Residuals:                    20994\n",
       "Method:                           MLE   Df Model:                            5\n",
       "Date:                Thu, 19 Sep 2019   Pseudo R-squ.:                  0.1454\n",
       "Time:                        23:08:41   Log-Likelihood:                -9537.4\n",
       "converged:                       True   LL-Null:                       -11160.\n",
       "                                        LLR p-value:                     0.000\n",
       "====================================================================================\n",
       "                       coef    std err          z      P>|z|      [0.025      0.975]\n",
       "------------------------------------------------------------------------------------\n",
       "intercept           -1.2448      0.018    -67.608      0.000      -1.281      -1.209\n",
       "Delay_bin            0.9113      0.020     46.385      0.000       0.873       0.950\n",
       "LIMIT_BAL_bin        0.3293      0.049      6.728      0.000       0.233       0.425\n",
       "Avg_Use_bin          0.2363      0.060      3.946      0.000       0.119       0.354\n",
       "Tot_percpaid_bin     0.3645      0.059      6.217      0.000       0.250       0.479\n",
       "Age_bin              0.4585      0.170      2.697      0.007       0.125       0.792\n",
       "====================================================================================\n",
       "\"\"\""
      ]
     },
     "execution_count": 266,
     "metadata": {},
     "output_type": "execute_result"
    }
   ],
   "source": [
    "result.summary()"
   ]
  },
  {
   "cell_type": "code",
   "execution_count": 267,
   "metadata": {
    "collapsed": false
   },
   "outputs": [],
   "source": [
    "prob=model.predict(result.params,X_train)"
   ]
  },
  {
   "cell_type": "code",
   "execution_count": 268,
   "metadata": {
    "collapsed": false
   },
   "outputs": [],
   "source": [
    "classes=pd.DataFrame(prob,columns=[\"class\"])"
   ]
  },
  {
   "cell_type": "code",
   "execution_count": 269,
   "metadata": {
    "collapsed": false
   },
   "outputs": [],
   "source": [
    "classes[\"class\"]=classes[\"class\"].apply(lambda x: 1 if (x >0.5) else 0)"
   ]
  },
  {
   "cell_type": "code",
   "execution_count": 270,
   "metadata": {
    "collapsed": false
   },
   "outputs": [
    {
     "data": {
      "text/plain": [
       "0    16304\n",
       "1     4696\n",
       "Name: Default, dtype: int64"
      ]
     },
     "execution_count": 270,
     "metadata": {},
     "output_type": "execute_result"
    }
   ],
   "source": [
    "y_train.value_counts()"
   ]
  },
  {
   "cell_type": "code",
   "execution_count": 271,
   "metadata": {
    "collapsed": false
   },
   "outputs": [
    {
     "name": "stdout",
     "output_type": "stream",
     "text": [
      "[[15516   788]\n",
      " [ 3389  1307]]\n"
     ]
    }
   ],
   "source": [
    "print(metrics.confusion_matrix(y_train,classes))"
   ]
  },
  {
   "cell_type": "code",
   "execution_count": 272,
   "metadata": {
    "collapsed": false,
    "scrolled": true
   },
   "outputs": [
    {
     "data": {
      "text/plain": [
       "16304"
      ]
     },
     "execution_count": 272,
     "metadata": {},
     "output_type": "execute_result"
    }
   ],
   "source": [
    "15516+788"
   ]
  },
  {
   "cell_type": "code",
   "execution_count": 273,
   "metadata": {
    "collapsed": false
   },
   "outputs": [
    {
     "data": {
      "text/plain": [
       "0.80109523809523808"
      ]
     },
     "execution_count": 273,
     "metadata": {},
     "output_type": "execute_result"
    }
   ],
   "source": [
    "metrics.accuracy_score(y_train,classes)"
   ]
  },
  {
   "cell_type": "code",
   "execution_count": 274,
   "metadata": {
    "collapsed": false
   },
   "outputs": [
    {
     "name": "stdout",
     "output_type": "stream",
     "text": [
      "             precision    recall  f1-score   support\n",
      "\n",
      "          0       0.82      0.95      0.88     16304\n",
      "          1       0.62      0.28      0.38      4696\n",
      "\n",
      "avg / total       0.78      0.80      0.77     21000\n",
      "\n"
     ]
    }
   ],
   "source": [
    "print(metrics.classification_report(y_train, classes))"
   ]
  },
  {
   "cell_type": "code",
   "execution_count": 275,
   "metadata": {
    "collapsed": false
   },
   "outputs": [],
   "source": [
    "fpr, tpr, _ = metrics.roc_curve(y_train,  prob)"
   ]
  },
  {
   "cell_type": "code",
   "execution_count": 276,
   "metadata": {
    "collapsed": false
   },
   "outputs": [],
   "source": [
    "auc = metrics.roc_auc_score(y_train,  prob)"
   ]
  },
  {
   "cell_type": "code",
   "execution_count": 277,
   "metadata": {
    "collapsed": false
   },
   "outputs": [
    {
     "data": {
      "image/png": "[encoded data removed]",
      "text/plain": [
       "<matplotlib.figure.Figure at 0x23660551828>"
      ]
     },
     "metadata": {},
     "output_type": "display_data"
    }
   ],
   "source": [
    "plt.plot(fpr,tpr,label=\"data 1, auc=\"+str(auc))\n",
    "plt.legend(loc=4)\n",
    "plt.show()"
   ]
  },
  {
   "cell_type": "markdown",
   "metadata": {
    "collapsed": true
   },
   "source": [
    "## VIFs of all the variables"
   ]
  },
  {
   "cell_type": "code",
   "execution_count": 278,
   "metadata": {
    "collapsed": true
   },
   "outputs": [],
   "source": [
    "from statsmodels.stats.outliers_influence import variance_inflation_factor"
   ]
  },
  {
   "cell_type": "code",
   "execution_count": 279,
   "metadata": {
    "collapsed": false
   },
   "outputs": [
    {
     "data": {
      "text/plain": [
       "intercept           1.048868\n",
       "Delay_bin           1.108513\n",
       "LIMIT_BAL_bin       1.177628\n",
       "Avg_Use_bin         1.321687\n",
       "Tot_percpaid_bin    1.284307\n",
       "Age_bin             1.035430\n",
       "dtype: float64"
      ]
     },
     "execution_count": 279,
     "metadata": {},
     "output_type": "execute_result"
    }
   ],
   "source": [
    "pd.Series([variance_inflation_factor(X_train.values, i) for i in range(X_train.shape[1])],index=X_train.columns)"
   ]
  },
  {
   "cell_type": "markdown",
   "metadata": {},
   "source": [
    "### Data for PREDICTIVE MODEL PERFORMANCE"
   ]
  },
  {
   "cell_type": "code",
   "execution_count": 280,
   "metadata": {
    "collapsed": false
   },
   "outputs": [],
   "source": [
    "classes[\"Prob\"]=prob"
   ]
  },
  {
   "cell_type": "code",
   "execution_count": 281,
   "metadata": {
    "collapsed": false
   },
   "outputs": [],
   "source": [
    "Actuals=y_train"
   ]
  },
  {
   "cell_type": "code",
   "execution_count": 282,
   "metadata": {
    "collapsed": false
   },
   "outputs": [],
   "source": [
    "Actuals.reset_index(drop=True,inplace=True)"
   ]
  },
  {
   "cell_type": "code",
   "execution_count": 283,
   "metadata": {
    "collapsed": false
   },
   "outputs": [],
   "source": [
    "classes[\"Actuals\"]=Actuals"
   ]
  },
  {
   "cell_type": "code",
   "execution_count": 284,
   "metadata": {
    "collapsed": false
   },
   "outputs": [
    {
     "data": {
      "text/html": [
       "<div>\n",
       "<style scoped>\n",
       "    .dataframe tbody tr th:only-of-type {\n",
       "        vertical-align: middle;\n",
       "    }\n",
       "\n",
       "    .dataframe tbody tr th {\n",
       "        vertical-align: top;\n",
       "    }\n",
       "\n",
       "    .dataframe thead th {\n",
       "        text-align: right;\n",
       "    }\n",
       "</style>\n",
       "<table border=\"1\" class=\"dataframe\">\n",
       "  <thead>\n",
       "    <tr style=\"text-align: right;\">\n",
       "      <th></th>\n",
       "      <th>class</th>\n",
       "      <th>Prob</th>\n",
       "      <th>Actuals</th>\n",
       "    </tr>\n",
       "  </thead>\n",
       "  <tbody>\n",
       "    <tr>\n",
       "      <th>0</th>\n",
       "      <td>0</td>\n",
       "      <td>0.170728</td>\n",
       "      <td>0</td>\n",
       "    </tr>\n",
       "    <tr>\n",
       "      <th>1</th>\n",
       "      <td>0</td>\n",
       "      <td>0.374164</td>\n",
       "      <td>0</td>\n",
       "    </tr>\n",
       "    <tr>\n",
       "      <th>2</th>\n",
       "      <td>0</td>\n",
       "      <td>0.081089</td>\n",
       "      <td>0</td>\n",
       "    </tr>\n",
       "    <tr>\n",
       "      <th>3</th>\n",
       "      <td>0</td>\n",
       "      <td>0.167231</td>\n",
       "      <td>0</td>\n",
       "    </tr>\n",
       "    <tr>\n",
       "      <th>4</th>\n",
       "      <td>0</td>\n",
       "      <td>0.456924</td>\n",
       "      <td>1</td>\n",
       "    </tr>\n",
       "    <tr>\n",
       "      <th>5</th>\n",
       "      <td>0</td>\n",
       "      <td>0.084921</td>\n",
       "      <td>0</td>\n",
       "    </tr>\n",
       "    <tr>\n",
       "      <th>6</th>\n",
       "      <td>0</td>\n",
       "      <td>0.236742</td>\n",
       "      <td>0</td>\n",
       "    </tr>\n",
       "    <tr>\n",
       "      <th>7</th>\n",
       "      <td>0</td>\n",
       "      <td>0.130547</td>\n",
       "      <td>0</td>\n",
       "    </tr>\n",
       "    <tr>\n",
       "      <th>8</th>\n",
       "      <td>0</td>\n",
       "      <td>0.117708</td>\n",
       "      <td>0</td>\n",
       "    </tr>\n",
       "    <tr>\n",
       "      <th>9</th>\n",
       "      <td>0</td>\n",
       "      <td>0.237179</td>\n",
       "      <td>0</td>\n",
       "    </tr>\n",
       "    <tr>\n",
       "      <th>10</th>\n",
       "      <td>0</td>\n",
       "      <td>0.086155</td>\n",
       "      <td>0</td>\n",
       "    </tr>\n",
       "    <tr>\n",
       "      <th>11</th>\n",
       "      <td>0</td>\n",
       "      <td>0.093023</td>\n",
       "      <td>0</td>\n",
       "    </tr>\n",
       "    <tr>\n",
       "      <th>12</th>\n",
       "      <td>0</td>\n",
       "      <td>0.150841</td>\n",
       "      <td>0</td>\n",
       "    </tr>\n",
       "    <tr>\n",
       "      <th>13</th>\n",
       "      <td>0</td>\n",
       "      <td>0.087592</td>\n",
       "      <td>0</td>\n",
       "    </tr>\n",
       "    <tr>\n",
       "      <th>14</th>\n",
       "      <td>0</td>\n",
       "      <td>0.144010</td>\n",
       "      <td>1</td>\n",
       "    </tr>\n",
       "    <tr>\n",
       "      <th>15</th>\n",
       "      <td>0</td>\n",
       "      <td>0.118905</td>\n",
       "      <td>0</td>\n",
       "    </tr>\n",
       "    <tr>\n",
       "      <th>16</th>\n",
       "      <td>0</td>\n",
       "      <td>0.080770</td>\n",
       "      <td>1</td>\n",
       "    </tr>\n",
       "    <tr>\n",
       "      <th>17</th>\n",
       "      <td>0</td>\n",
       "      <td>0.122476</td>\n",
       "      <td>0</td>\n",
       "    </tr>\n",
       "    <tr>\n",
       "      <th>18</th>\n",
       "      <td>0</td>\n",
       "      <td>0.495962</td>\n",
       "      <td>0</td>\n",
       "    </tr>\n",
       "    <tr>\n",
       "      <th>19</th>\n",
       "      <td>0</td>\n",
       "      <td>0.326249</td>\n",
       "      <td>0</td>\n",
       "    </tr>\n",
       "    <tr>\n",
       "      <th>20</th>\n",
       "      <td>0</td>\n",
       "      <td>0.157543</td>\n",
       "      <td>0</td>\n",
       "    </tr>\n",
       "    <tr>\n",
       "      <th>21</th>\n",
       "      <td>0</td>\n",
       "      <td>0.098743</td>\n",
       "      <td>0</td>\n",
       "    </tr>\n",
       "    <tr>\n",
       "      <th>22</th>\n",
       "      <td>0</td>\n",
       "      <td>0.448457</td>\n",
       "      <td>1</td>\n",
       "    </tr>\n",
       "    <tr>\n",
       "      <th>23</th>\n",
       "      <td>0</td>\n",
       "      <td>0.145631</td>\n",
       "      <td>0</td>\n",
       "    </tr>\n",
       "    <tr>\n",
       "      <th>24</th>\n",
       "      <td>1</td>\n",
       "      <td>0.626515</td>\n",
       "      <td>1</td>\n",
       "    </tr>\n",
       "    <tr>\n",
       "      <th>25</th>\n",
       "      <td>1</td>\n",
       "      <td>0.509740</td>\n",
       "      <td>0</td>\n",
       "    </tr>\n",
       "    <tr>\n",
       "      <th>26</th>\n",
       "      <td>0</td>\n",
       "      <td>0.125271</td>\n",
       "      <td>0</td>\n",
       "    </tr>\n",
       "    <tr>\n",
       "      <th>27</th>\n",
       "      <td>0</td>\n",
       "      <td>0.112649</td>\n",
       "      <td>1</td>\n",
       "    </tr>\n",
       "    <tr>\n",
       "      <th>28</th>\n",
       "      <td>0</td>\n",
       "      <td>0.141021</td>\n",
       "      <td>0</td>\n",
       "    </tr>\n",
       "    <tr>\n",
       "      <th>29</th>\n",
       "      <td>0</td>\n",
       "      <td>0.127778</td>\n",
       "      <td>0</td>\n",
       "    </tr>\n",
       "    <tr>\n",
       "      <th>...</th>\n",
       "      <td>...</td>\n",
       "      <td>...</td>\n",
       "      <td>...</td>\n",
       "    </tr>\n",
       "    <tr>\n",
       "      <th>20970</th>\n",
       "      <td>0</td>\n",
       "      <td>0.341261</td>\n",
       "      <td>0</td>\n",
       "    </tr>\n",
       "    <tr>\n",
       "      <th>20971</th>\n",
       "      <td>0</td>\n",
       "      <td>0.100102</td>\n",
       "      <td>0</td>\n",
       "    </tr>\n",
       "    <tr>\n",
       "      <th>20972</th>\n",
       "      <td>0</td>\n",
       "      <td>0.076679</td>\n",
       "      <td>0</td>\n",
       "    </tr>\n",
       "    <tr>\n",
       "      <th>20973</th>\n",
       "      <td>0</td>\n",
       "      <td>0.330016</td>\n",
       "      <td>0</td>\n",
       "    </tr>\n",
       "    <tr>\n",
       "      <th>20974</th>\n",
       "      <td>0</td>\n",
       "      <td>0.498846</td>\n",
       "      <td>0</td>\n",
       "    </tr>\n",
       "    <tr>\n",
       "      <th>20975</th>\n",
       "      <td>0</td>\n",
       "      <td>0.148239</td>\n",
       "      <td>0</td>\n",
       "    </tr>\n",
       "    <tr>\n",
       "      <th>20976</th>\n",
       "      <td>0</td>\n",
       "      <td>0.091495</td>\n",
       "      <td>0</td>\n",
       "    </tr>\n",
       "    <tr>\n",
       "      <th>20977</th>\n",
       "      <td>0</td>\n",
       "      <td>0.101354</td>\n",
       "      <td>0</td>\n",
       "    </tr>\n",
       "    <tr>\n",
       "      <th>20978</th>\n",
       "      <td>0</td>\n",
       "      <td>0.091902</td>\n",
       "      <td>0</td>\n",
       "    </tr>\n",
       "    <tr>\n",
       "      <th>20979</th>\n",
       "      <td>0</td>\n",
       "      <td>0.327066</td>\n",
       "      <td>1</td>\n",
       "    </tr>\n",
       "    <tr>\n",
       "      <th>20980</th>\n",
       "      <td>0</td>\n",
       "      <td>0.118007</td>\n",
       "      <td>0</td>\n",
       "    </tr>\n",
       "    <tr>\n",
       "      <th>20981</th>\n",
       "      <td>0</td>\n",
       "      <td>0.141430</td>\n",
       "      <td>0</td>\n",
       "    </tr>\n",
       "    <tr>\n",
       "      <th>20982</th>\n",
       "      <td>0</td>\n",
       "      <td>0.480924</td>\n",
       "      <td>0</td>\n",
       "    </tr>\n",
       "    <tr>\n",
       "      <th>20983</th>\n",
       "      <td>0</td>\n",
       "      <td>0.229558</td>\n",
       "      <td>0</td>\n",
       "    </tr>\n",
       "    <tr>\n",
       "      <th>20984</th>\n",
       "      <td>0</td>\n",
       "      <td>0.137430</td>\n",
       "      <td>0</td>\n",
       "    </tr>\n",
       "    <tr>\n",
       "      <th>20985</th>\n",
       "      <td>0</td>\n",
       "      <td>0.497794</td>\n",
       "      <td>1</td>\n",
       "    </tr>\n",
       "    <tr>\n",
       "      <th>20986</th>\n",
       "      <td>0</td>\n",
       "      <td>0.163414</td>\n",
       "      <td>0</td>\n",
       "    </tr>\n",
       "    <tr>\n",
       "      <th>20987</th>\n",
       "      <td>0</td>\n",
       "      <td>0.182539</td>\n",
       "      <td>0</td>\n",
       "    </tr>\n",
       "    <tr>\n",
       "      <th>20988</th>\n",
       "      <td>0</td>\n",
       "      <td>0.120058</td>\n",
       "      <td>0</td>\n",
       "    </tr>\n",
       "    <tr>\n",
       "      <th>20989</th>\n",
       "      <td>0</td>\n",
       "      <td>0.116771</td>\n",
       "      <td>0</td>\n",
       "    </tr>\n",
       "    <tr>\n",
       "      <th>20990</th>\n",
       "      <td>0</td>\n",
       "      <td>0.106721</td>\n",
       "      <td>0</td>\n",
       "    </tr>\n",
       "    <tr>\n",
       "      <th>20991</th>\n",
       "      <td>1</td>\n",
       "      <td>0.667390</td>\n",
       "      <td>1</td>\n",
       "    </tr>\n",
       "    <tr>\n",
       "      <th>20992</th>\n",
       "      <td>0</td>\n",
       "      <td>0.100139</td>\n",
       "      <td>0</td>\n",
       "    </tr>\n",
       "    <tr>\n",
       "      <th>20993</th>\n",
       "      <td>0</td>\n",
       "      <td>0.091700</td>\n",
       "      <td>0</td>\n",
       "    </tr>\n",
       "    <tr>\n",
       "      <th>20994</th>\n",
       "      <td>0</td>\n",
       "      <td>0.114704</td>\n",
       "      <td>0</td>\n",
       "    </tr>\n",
       "    <tr>\n",
       "      <th>20995</th>\n",
       "      <td>0</td>\n",
       "      <td>0.150129</td>\n",
       "      <td>0</td>\n",
       "    </tr>\n",
       "    <tr>\n",
       "      <th>20996</th>\n",
       "      <td>0</td>\n",
       "      <td>0.132927</td>\n",
       "      <td>1</td>\n",
       "    </tr>\n",
       "    <tr>\n",
       "      <th>20997</th>\n",
       "      <td>0</td>\n",
       "      <td>0.315262</td>\n",
       "      <td>0</td>\n",
       "    </tr>\n",
       "    <tr>\n",
       "      <th>20998</th>\n",
       "      <td>0</td>\n",
       "      <td>0.148487</td>\n",
       "      <td>0</td>\n",
       "    </tr>\n",
       "    <tr>\n",
       "      <th>20999</th>\n",
       "      <td>0</td>\n",
       "      <td>0.130339</td>\n",
       "      <td>0</td>\n",
       "    </tr>\n",
       "  </tbody>\n",
       "</table>\n",
       "<p>21000 rows × 3 columns</p>\n",
       "</div>"
      ],
      "text/plain": [
       "       class      Prob  Actuals\n",
       "0          0  0.170728        0\n",
       "1          0  0.374164        0\n",
       "2          0  0.081089        0\n",
       "3          0  0.167231        0\n",
       "4          0  0.456924        1\n",
       "5          0  0.084921        0\n",
       "6          0  0.236742        0\n",
       "7          0  0.130547        0\n",
       "8          0  0.117708        0\n",
       "9          0  0.237179        0\n",
       "10         0  0.086155        0\n",
       "11         0  0.093023        0\n",
       "12         0  0.150841        0\n",
       "13         0  0.087592        0\n",
       "14         0  0.144010        1\n",
       "15         0  0.118905        0\n",
       "16         0  0.080770        1\n",
       "17         0  0.122476        0\n",
       "18         0  0.495962        0\n",
       "19         0  0.326249        0\n",
       "20         0  0.157543        0\n",
       "21         0  0.098743        0\n",
       "22         0  0.448457        1\n",
       "23         0  0.145631        0\n",
       "24         1  0.626515        1\n",
       "25         1  0.509740        0\n",
       "26         0  0.125271        0\n",
       "27         0  0.112649        1\n",
       "28         0  0.141021        0\n",
       "29         0  0.127778        0\n",
       "...      ...       ...      ...\n",
       "20970      0  0.341261        0\n",
       "20971      0  0.100102        0\n",
       "20972      0  0.076679        0\n",
       "20973      0  0.330016        0\n",
       "20974      0  0.498846        0\n",
       "20975      0  0.148239        0\n",
       "20976      0  0.091495        0\n",
       "20977      0  0.101354        0\n",
       "20978      0  0.091902        0\n",
       "20979      0  0.327066        1\n",
       "20980      0  0.118007        0\n",
       "20981      0  0.141430        0\n",
       "20982      0  0.480924        0\n",
       "20983      0  0.229558        0\n",
       "20984      0  0.137430        0\n",
       "20985      0  0.497794        1\n",
       "20986      0  0.163414        0\n",
       "20987      0  0.182539        0\n",
       "20988      0  0.120058        0\n",
       "20989      0  0.116771        0\n",
       "20990      0  0.106721        0\n",
       "20991      1  0.667390        1\n",
       "20992      0  0.100139        0\n",
       "20993      0  0.091700        0\n",
       "20994      0  0.114704        0\n",
       "20995      0  0.150129        0\n",
       "20996      0  0.132927        1\n",
       "20997      0  0.315262        0\n",
       "20998      0  0.148487        0\n",
       "20999      0  0.130339        0\n",
       "\n",
       "[21000 rows x 3 columns]"
      ]
     },
     "execution_count": 284,
     "metadata": {},
     "output_type": "execute_result"
    }
   ],
   "source": [
    "classes"
   ]
  },
  {
   "cell_type": "code",
   "execution_count": 285,
   "metadata": {
    "collapsed": true
   },
   "outputs": [],
   "source": [
    "classes.to_pickle(\"data_model_vald.pkl\")"
   ]
  },
  {
   "cell_type": "markdown",
   "metadata": {},
   "source": [
    "### Make Predictions on Test Data"
   ]
  },
  {
   "cell_type": "code",
   "execution_count": 286,
   "metadata": {
    "collapsed": false
   },
   "outputs": [
    {
     "name": "stderr",
     "output_type": "stream",
     "text": [
      "C:\\ProgramData\\Anaconda3\\lib\\site-packages\\pandas\\core\\frame.py:3697: SettingWithCopyWarning: \n",
      "A value is trying to be set on a copy of a slice from a DataFrame\n",
      "\n",
      "See the caveats in the documentation: http://pandas.pydata.org/pandas-docs/stable/indexing.html#indexing-view-versus-copy\n",
      "  errors=errors)\n"
     ]
    }
   ],
   "source": [
    "X_test.drop(\"Edu\",axis=1,inplace=True)"
   ]
  },
  {
   "cell_type": "code",
   "execution_count": 287,
   "metadata": {
    "collapsed": false
   },
   "outputs": [],
   "source": [
    "prob_test=model.predict(result.params,X_test)"
   ]
  },
  {
   "cell_type": "code",
   "execution_count": 288,
   "metadata": {
    "collapsed": false
   },
   "outputs": [
    {
     "data": {
      "text/plain": [
       "array([ 0.66738989,  0.36605581,  0.2523007 , ...,  0.13742952,\n",
       "        0.08638155,  0.10516026])"
      ]
     },
     "execution_count": 288,
     "metadata": {},
     "output_type": "execute_result"
    }
   ],
   "source": [
    "prob_test"
   ]
  },
  {
   "cell_type": "code",
   "execution_count": 289,
   "metadata": {
    "collapsed": false,
    "scrolled": true
   },
   "outputs": [
    {
     "data": {
      "text/plain": [
       "8225     0\n",
       "10794    0\n",
       "9163     0\n",
       "26591    0\n",
       "6631     0\n",
       "14161    1\n",
       "252      1\n",
       "2566     0\n",
       "3478     0\n",
       "2917     0\n",
       "12775    0\n",
       "29010    0\n",
       "7983     0\n",
       "21976    0\n",
       "21139    0\n",
       "12477    0\n",
       "3199     1\n",
       "9708     0\n",
       "7631     0\n",
       "6937     0\n",
       "6175     0\n",
       "16560    0\n",
       "14733    1\n",
       "19277    0\n",
       "16290    1\n",
       "19552    1\n",
       "1482     0\n",
       "24743    0\n",
       "19704    0\n",
       "4273     1\n",
       "        ..\n",
       "4504     0\n",
       "16348    0\n",
       "2610     0\n",
       "2074     0\n",
       "7342     0\n",
       "25187    0\n",
       "24853    0\n",
       "23225    1\n",
       "2280     0\n",
       "20827    0\n",
       "25691    1\n",
       "5705     1\n",
       "7553     0\n",
       "12063    0\n",
       "11607    0\n",
       "22038    0\n",
       "26598    1\n",
       "14600    0\n",
       "20945    0\n",
       "1310     1\n",
       "28352    0\n",
       "23682    0\n",
       "21383    0\n",
       "675      1\n",
       "21313    0\n",
       "21914    0\n",
       "17453    0\n",
       "20344    0\n",
       "1878     0\n",
       "6465     0\n",
       "Name: Default, Length: 9000, dtype: int64"
      ]
     },
     "execution_count": 289,
     "metadata": {},
     "output_type": "execute_result"
    }
   ],
   "source": [
    "y_test"
   ]
  },
  {
   "cell_type": "code",
   "execution_count": 290,
   "metadata": {
    "collapsed": true
   },
   "outputs": [],
   "source": [
    "Test_classes=pd.DataFrame(prob_test,columns=[\"class\"])"
   ]
  },
  {
   "cell_type": "code",
   "execution_count": 291,
   "metadata": {
    "collapsed": true
   },
   "outputs": [],
   "source": [
    "Test_classes[\"class\"]=Test_classes[\"class\"].apply(lambda x: 1 if (x >0.5) else 0)"
   ]
  },
  {
   "cell_type": "code",
   "execution_count": 292,
   "metadata": {
    "collapsed": true
   },
   "outputs": [],
   "source": [
    "Test_classes[\"Prob\"]=prob_test"
   ]
  },
  {
   "cell_type": "code",
   "execution_count": 293,
   "metadata": {
    "collapsed": true
   },
   "outputs": [],
   "source": [
    "Test_Actuals=y_test\n",
    "Test_Actuals.reset_index(drop=True,inplace=True)"
   ]
  },
  {
   "cell_type": "code",
   "execution_count": 294,
   "metadata": {
    "collapsed": false
   },
   "outputs": [],
   "source": [
    "Test_classes[\"Actuals\"]=Test_Actuals"
   ]
  },
  {
   "cell_type": "code",
   "execution_count": 299,
   "metadata": {
    "collapsed": true
   },
   "outputs": [],
   "source": [
    "Test_classes.to_pickle(\"Test_data_model_vald.pkl\")"
   ]
  }
 ],
 "metadata": {
  "kernelspec": {
   "display_name": "Python 3",
   "language": "python",
   "name": "python3"
  },
  "language_info": {
   "codemirror_mode": {
    "name": "ipython",
    "version": 3
   },
   "file_extension": ".py",
   "mimetype": "text/x-python",
   "name": "python",
   "nbconvert_exporter": "python",
   "pygments_lexer": "ipython3",
   "version": "3.6.0"
  }
 },
 "nbformat": 4,
 "nbformat_minor": 2
}
